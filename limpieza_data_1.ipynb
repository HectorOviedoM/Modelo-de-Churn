{
 "cells": [
  {
   "cell_type": "code",
   "execution_count": 1,
   "metadata": {},
   "outputs": [],
   "source": [
    "#### Imports para entrenamiento, predicción y evaluación del modelo ####\n",
    "#### NO QUITAR ####\n",
    "import xgboost as xgb\n",
    "from sklearn.metrics import classification_report, confusion_matrix\n",
    "#### Código Agregado ####\n",
    "import pandas as pd\n",
    "import numpy as np\n",
    "import seaborn as sns\n",
    "import matplotlib.pyplot as plt"
   ]
  },
  {
   "cell_type": "markdown",
   "metadata": {},
   "source": [
    "### **Dividimos el Dataset para trabajar en equipo. Los criterios para dicha division fueron equidad en el tamaño de los subset a trabajar y similitud en los tipos de variable dentro del mismo.**"
   ]
  },
  {
   "cell_type": "code",
   "execution_count": null,
   "metadata": {},
   "outputs": [],
   "source": [
    "fulldata = fulldata.set_index('SUSCRIBER_KEY')"
   ]
  },
  {
   "cell_type": "code",
   "execution_count": null,
   "metadata": {},
   "outputs": [],
   "source": [
    "data_1 = fulldata[fulldata.columns[0:62]]\n",
    "data_2 = fulldata[fulldata.columns[62:128]]\n",
    "data_3 = fulldata[fulldata.columns[128:]]"
   ]
  },
  {
   "cell_type": "markdown",
   "metadata": {},
   "source": [
    "# **Data_1**"
   ]
  },
  {
   "cell_type": "code",
   "execution_count": 2,
   "metadata": {},
   "outputs": [],
   "source": [
    "data_1 = pd.read_csv ('data_1.csv')"
   ]
  },
  {
   "cell_type": "code",
   "execution_count": 3,
   "metadata": {},
   "outputs": [],
   "source": [
    "pd.set_option('display.max_columns', 63)"
   ]
  },
  {
   "cell_type": "code",
   "execution_count": 3,
   "metadata": {},
   "outputs": [
    {
     "data": {
      "text/html": [
       "<div>\n",
       "<style scoped>\n",
       "    .dataframe tbody tr th:only-of-type {\n",
       "        vertical-align: middle;\n",
       "    }\n",
       "\n",
       "    .dataframe tbody tr th {\n",
       "        vertical-align: top;\n",
       "    }\n",
       "\n",
       "    .dataframe thead th {\n",
       "        text-align: right;\n",
       "    }\n",
       "</style>\n",
       "<table border=\"1\" class=\"dataframe\">\n",
       "  <thead>\n",
       "    <tr style=\"text-align: right;\">\n",
       "      <th></th>\n",
       "      <th>SUSCRIBER_KEY</th>\n",
       "      <th>LAT_PROV_BTS</th>\n",
       "      <th>LON_PROV_BTS</th>\n",
       "      <th>LAT_CITY_BTS</th>\n",
       "      <th>LON_CITY_BTS</th>\n",
       "      <th>VALUE_SEGMENT</th>\n",
       "      <th>SEGMENTATION</th>\n",
       "      <th>MICROSEGMENTATION</th>\n",
       "      <th>DEVICE_MODEL_NAME</th>\n",
       "      <th>DEVICE_VENDOR_NAME</th>\n",
       "      <th>...</th>\n",
       "      <th>PREP_RECH_AMT_W12</th>\n",
       "      <th>TRD_M1</th>\n",
       "      <th>TRD_M2</th>\n",
       "      <th>TRD_M3</th>\n",
       "      <th>TRD_STR_M1</th>\n",
       "      <th>TRD_STR_M2</th>\n",
       "      <th>TRD_STR_M3</th>\n",
       "      <th>TRD_SN_M1</th>\n",
       "      <th>TRD_SN_M2</th>\n",
       "      <th>TRD_SN_M3</th>\n",
       "    </tr>\n",
       "  </thead>\n",
       "  <tbody>\n",
       "    <tr>\n",
       "      <th>0</th>\n",
       "      <td>E_63734494_20190215</td>\n",
       "      <td>8.58480</td>\n",
       "      <td>-82.38850</td>\n",
       "      <td>-82.43330</td>\n",
       "      <td>8.43330</td>\n",
       "      <td>3 - SILVER</td>\n",
       "      <td>2-PD</td>\n",
       "      <td>PD1</td>\n",
       "      <td>G4 STYLUS (H540)</td>\n",
       "      <td>LG</td>\n",
       "      <td>...</td>\n",
       "      <td>0.0</td>\n",
       "      <td>15.09</td>\n",
       "      <td>5.06</td>\n",
       "      <td>1.00</td>\n",
       "      <td>12538</td>\n",
       "      <td>1121</td>\n",
       "      <td>866</td>\n",
       "      <td>0</td>\n",
       "      <td>38</td>\n",
       "      <td>0</td>\n",
       "    </tr>\n",
       "    <tr>\n",
       "      <th>1</th>\n",
       "      <td>E_66977552_20190518</td>\n",
       "      <td>8.58480</td>\n",
       "      <td>-82.38850</td>\n",
       "      <td>-82.43330</td>\n",
       "      <td>8.43330</td>\n",
       "      <td>4 - BRONZE</td>\n",
       "      <td>7-LOW</td>\n",
       "      <td>LOW3</td>\n",
       "      <td>NOT_IDENTIFIED</td>\n",
       "      <td>NOT_IDENTIFIED</td>\n",
       "      <td>...</td>\n",
       "      <td>0.0</td>\n",
       "      <td>0.00</td>\n",
       "      <td>0.00</td>\n",
       "      <td>0.00</td>\n",
       "      <td>0</td>\n",
       "      <td>0</td>\n",
       "      <td>0</td>\n",
       "      <td>0</td>\n",
       "      <td>0</td>\n",
       "      <td>0</td>\n",
       "    </tr>\n",
       "    <tr>\n",
       "      <th>2</th>\n",
       "      <td>E_69159695_20180116</td>\n",
       "      <td>8.12310</td>\n",
       "      <td>-81.07550</td>\n",
       "      <td>-78.16140</td>\n",
       "      <td>8.65525</td>\n",
       "      <td>3 - SILVER</td>\n",
       "      <td>6-OH</td>\n",
       "      <td>LOW4</td>\n",
       "      <td>NOT_IDENTIFIED</td>\n",
       "      <td>NOT_IDENTIFIED</td>\n",
       "      <td>...</td>\n",
       "      <td>0.0</td>\n",
       "      <td>0.42</td>\n",
       "      <td>0.00</td>\n",
       "      <td>0.09</td>\n",
       "      <td>57</td>\n",
       "      <td>0</td>\n",
       "      <td>0</td>\n",
       "      <td>0</td>\n",
       "      <td>0</td>\n",
       "      <td>0</td>\n",
       "    </tr>\n",
       "    <tr>\n",
       "      <th>3</th>\n",
       "      <td>E_65255730_20190416</td>\n",
       "      <td>9.08320</td>\n",
       "      <td>-79.59240</td>\n",
       "      <td>-79.51973</td>\n",
       "      <td>8.99360</td>\n",
       "      <td>3 - SILVER</td>\n",
       "      <td>7-LOW</td>\n",
       "      <td>LOW3</td>\n",
       "      <td>JENNY TV 2.8</td>\n",
       "      <td>BLU</td>\n",
       "      <td>...</td>\n",
       "      <td>0.0</td>\n",
       "      <td>0.14</td>\n",
       "      <td>0.00</td>\n",
       "      <td>0.00</td>\n",
       "      <td>7</td>\n",
       "      <td>0</td>\n",
       "      <td>0</td>\n",
       "      <td>65</td>\n",
       "      <td>0</td>\n",
       "      <td>0</td>\n",
       "    </tr>\n",
       "    <tr>\n",
       "      <th>4</th>\n",
       "      <td>E_67893872_20161201</td>\n",
       "      <td>9.08320</td>\n",
       "      <td>-79.59240</td>\n",
       "      <td>-79.51973</td>\n",
       "      <td>8.99360</td>\n",
       "      <td>3 - SILVER</td>\n",
       "      <td>3-DO</td>\n",
       "      <td>DO3</td>\n",
       "      <td>GALAXY J1 (SM-J111MDS)</td>\n",
       "      <td>SAMSUNG</td>\n",
       "      <td>...</td>\n",
       "      <td>0.0</td>\n",
       "      <td>1.80</td>\n",
       "      <td>3.90</td>\n",
       "      <td>0.88</td>\n",
       "      <td>667</td>\n",
       "      <td>2078</td>\n",
       "      <td>83</td>\n",
       "      <td>128</td>\n",
       "      <td>110</td>\n",
       "      <td>9</td>\n",
       "    </tr>\n",
       "    <tr>\n",
       "      <th>5</th>\n",
       "      <td>E_65438949_20150630</td>\n",
       "      <td>8.58480</td>\n",
       "      <td>-82.38850</td>\n",
       "      <td>-82.61991</td>\n",
       "      <td>8.48255</td>\n",
       "      <td>1 - PLATINUM</td>\n",
       "      <td>1-HCV</td>\n",
       "      <td>HCV1</td>\n",
       "      <td>NOT_IDENTIFIED</td>\n",
       "      <td>NOT_IDENTIFIED</td>\n",
       "      <td>...</td>\n",
       "      <td>5.0</td>\n",
       "      <td>7.89</td>\n",
       "      <td>4.89</td>\n",
       "      <td>4.68</td>\n",
       "      <td>983</td>\n",
       "      <td>634</td>\n",
       "      <td>628</td>\n",
       "      <td>1661</td>\n",
       "      <td>871</td>\n",
       "      <td>582</td>\n",
       "    </tr>\n",
       "    <tr>\n",
       "      <th>6</th>\n",
       "      <td>E_69696838_20160305</td>\n",
       "      <td>8.79528</td>\n",
       "      <td>-80.14711</td>\n",
       "      <td>-79.65000</td>\n",
       "      <td>8.95000</td>\n",
       "      <td>4 - BRONZE</td>\n",
       "      <td>7-LOW</td>\n",
       "      <td>LOW4</td>\n",
       "      <td>GALAXY GRAND PRIME DUOS (SM-G532M DS)</td>\n",
       "      <td>SAMSUNG</td>\n",
       "      <td>...</td>\n",
       "      <td>0.0</td>\n",
       "      <td>0.80</td>\n",
       "      <td>0.00</td>\n",
       "      <td>0.00</td>\n",
       "      <td>289</td>\n",
       "      <td>0</td>\n",
       "      <td>0</td>\n",
       "      <td>149</td>\n",
       "      <td>0</td>\n",
       "      <td>0</td>\n",
       "    </tr>\n",
       "    <tr>\n",
       "      <th>7</th>\n",
       "      <td>E_67625669_20180902</td>\n",
       "      <td>8.12310</td>\n",
       "      <td>-81.07550</td>\n",
       "      <td>-81.18114</td>\n",
       "      <td>8.14707</td>\n",
       "      <td>3 - SILVER</td>\n",
       "      <td>5-PV</td>\n",
       "      <td>PV1</td>\n",
       "      <td>NOT_IDENTIFIED</td>\n",
       "      <td>NOT_IDENTIFIED</td>\n",
       "      <td>...</td>\n",
       "      <td>3.0</td>\n",
       "      <td>0.00</td>\n",
       "      <td>0.00</td>\n",
       "      <td>0.00</td>\n",
       "      <td>0</td>\n",
       "      <td>0</td>\n",
       "      <td>0</td>\n",
       "      <td>0</td>\n",
       "      <td>0</td>\n",
       "      <td>0</td>\n",
       "    </tr>\n",
       "    <tr>\n",
       "      <th>8</th>\n",
       "      <td>E_68733613_20150701</td>\n",
       "      <td>8.62660</td>\n",
       "      <td>-80.36590</td>\n",
       "      <td>-80.54609</td>\n",
       "      <td>8.24183</td>\n",
       "      <td>1 - PLATINUM</td>\n",
       "      <td>6-OH</td>\n",
       "      <td>DO4</td>\n",
       "      <td>GALAXY J7 DUOS LTE (SM-J700HDS)</td>\n",
       "      <td>SAMSUNG</td>\n",
       "      <td>...</td>\n",
       "      <td>6.0</td>\n",
       "      <td>0.75</td>\n",
       "      <td>3.29</td>\n",
       "      <td>1.61</td>\n",
       "      <td>216</td>\n",
       "      <td>622</td>\n",
       "      <td>543</td>\n",
       "      <td>51</td>\n",
       "      <td>206</td>\n",
       "      <td>20</td>\n",
       "    </tr>\n",
       "    <tr>\n",
       "      <th>9</th>\n",
       "      <td>E_66538076_20150630</td>\n",
       "      <td>8.79528</td>\n",
       "      <td>-80.14711</td>\n",
       "      <td>-79.65000</td>\n",
       "      <td>8.95000</td>\n",
       "      <td>2 - GOLD</td>\n",
       "      <td>3-DO</td>\n",
       "      <td>DO4</td>\n",
       "      <td>GALAXY CORE II (SM-G355M)</td>\n",
       "      <td>SAMSUNG</td>\n",
       "      <td>...</td>\n",
       "      <td>0.0</td>\n",
       "      <td>1.90</td>\n",
       "      <td>2.53</td>\n",
       "      <td>4.56</td>\n",
       "      <td>133</td>\n",
       "      <td>292</td>\n",
       "      <td>713</td>\n",
       "      <td>120</td>\n",
       "      <td>10</td>\n",
       "      <td>0</td>\n",
       "    </tr>\n",
       "  </tbody>\n",
       "</table>\n",
       "<p>10 rows × 63 columns</p>\n",
       "</div>"
      ],
      "text/plain": [
       "         SUSCRIBER_KEY  LAT_PROV_BTS  LON_PROV_BTS  LAT_CITY_BTS  \\\n",
       "0  E_63734494_20190215       8.58480     -82.38850     -82.43330   \n",
       "1  E_66977552_20190518       8.58480     -82.38850     -82.43330   \n",
       "2  E_69159695_20180116       8.12310     -81.07550     -78.16140   \n",
       "3  E_65255730_20190416       9.08320     -79.59240     -79.51973   \n",
       "4  E_67893872_20161201       9.08320     -79.59240     -79.51973   \n",
       "5  E_65438949_20150630       8.58480     -82.38850     -82.61991   \n",
       "6  E_69696838_20160305       8.79528     -80.14711     -79.65000   \n",
       "7  E_67625669_20180902       8.12310     -81.07550     -81.18114   \n",
       "8  E_68733613_20150701       8.62660     -80.36590     -80.54609   \n",
       "9  E_66538076_20150630       8.79528     -80.14711     -79.65000   \n",
       "\n",
       "   LON_CITY_BTS VALUE_SEGMENT SEGMENTATION MICROSEGMENTATION  \\\n",
       "0       8.43330    3 - SILVER         2-PD               PD1   \n",
       "1       8.43330    4 - BRONZE        7-LOW              LOW3   \n",
       "2       8.65525    3 - SILVER         6-OH              LOW4   \n",
       "3       8.99360    3 - SILVER        7-LOW              LOW3   \n",
       "4       8.99360    3 - SILVER         3-DO               DO3   \n",
       "5       8.48255  1 - PLATINUM        1-HCV              HCV1   \n",
       "6       8.95000    4 - BRONZE        7-LOW              LOW4   \n",
       "7       8.14707    3 - SILVER         5-PV               PV1   \n",
       "8       8.24183  1 - PLATINUM         6-OH               DO4   \n",
       "9       8.95000      2 - GOLD         3-DO               DO4   \n",
       "\n",
       "                       DEVICE_MODEL_NAME DEVICE_VENDOR_NAME  ...  \\\n",
       "0                       G4 STYLUS (H540)                 LG  ...   \n",
       "1                         NOT_IDENTIFIED     NOT_IDENTIFIED  ...   \n",
       "2                         NOT_IDENTIFIED     NOT_IDENTIFIED  ...   \n",
       "3                           JENNY TV 2.8                BLU  ...   \n",
       "4                 GALAXY J1 (SM-J111MDS)            SAMSUNG  ...   \n",
       "5                         NOT_IDENTIFIED     NOT_IDENTIFIED  ...   \n",
       "6  GALAXY GRAND PRIME DUOS (SM-G532M DS)            SAMSUNG  ...   \n",
       "7                         NOT_IDENTIFIED     NOT_IDENTIFIED  ...   \n",
       "8        GALAXY J7 DUOS LTE (SM-J700HDS)            SAMSUNG  ...   \n",
       "9              GALAXY CORE II (SM-G355M)            SAMSUNG  ...   \n",
       "\n",
       "  PREP_RECH_AMT_W12 TRD_M1  TRD_M2  TRD_M3  TRD_STR_M1  TRD_STR_M2  \\\n",
       "0               0.0  15.09    5.06    1.00       12538        1121   \n",
       "1               0.0   0.00    0.00    0.00           0           0   \n",
       "2               0.0   0.42    0.00    0.09          57           0   \n",
       "3               0.0   0.14    0.00    0.00           7           0   \n",
       "4               0.0   1.80    3.90    0.88         667        2078   \n",
       "5               5.0   7.89    4.89    4.68         983         634   \n",
       "6               0.0   0.80    0.00    0.00         289           0   \n",
       "7               3.0   0.00    0.00    0.00           0           0   \n",
       "8               6.0   0.75    3.29    1.61         216         622   \n",
       "9               0.0   1.90    2.53    4.56         133         292   \n",
       "\n",
       "   TRD_STR_M3  TRD_SN_M1  TRD_SN_M2  TRD_SN_M3  \n",
       "0         866          0         38          0  \n",
       "1           0          0          0          0  \n",
       "2           0          0          0          0  \n",
       "3           0         65          0          0  \n",
       "4          83        128        110          9  \n",
       "5         628       1661        871        582  \n",
       "6           0        149          0          0  \n",
       "7           0          0          0          0  \n",
       "8         543         51        206         20  \n",
       "9         713        120         10          0  \n",
       "\n",
       "[10 rows x 63 columns]"
      ]
     },
     "execution_count": 3,
     "metadata": {},
     "output_type": "execute_result"
    }
   ],
   "source": [
    "data_1.head(10)"
   ]
  },
  {
   "cell_type": "code",
   "execution_count": 4,
   "metadata": {},
   "outputs": [
    {
     "data": {
      "text/plain": [
       "319222"
      ]
     },
     "execution_count": 4,
     "metadata": {},
     "output_type": "execute_result"
    }
   ],
   "source": [
    "#no hay valores de suscriber_key repetidos\n",
    "data_1['SUSCRIBER_KEY'].nunique()"
   ]
  },
  {
   "cell_type": "code",
   "execution_count": 5,
   "metadata": {},
   "outputs": [
    {
     "data": {
      "text/html": [
       "<div>\n",
       "<style scoped>\n",
       "    .dataframe tbody tr th:only-of-type {\n",
       "        vertical-align: middle;\n",
       "    }\n",
       "\n",
       "    .dataframe tbody tr th {\n",
       "        vertical-align: top;\n",
       "    }\n",
       "\n",
       "    .dataframe thead th {\n",
       "        text-align: right;\n",
       "    }\n",
       "</style>\n",
       "<table border=\"1\" class=\"dataframe\">\n",
       "  <thead>\n",
       "    <tr style=\"text-align: right;\">\n",
       "      <th></th>\n",
       "      <th>SUSCRIBER_KEY</th>\n",
       "      <th>LAT_PROV_BTS</th>\n",
       "      <th>LON_PROV_BTS</th>\n",
       "      <th>LAT_CITY_BTS</th>\n",
       "      <th>LON_CITY_BTS</th>\n",
       "      <th>VALUE_SEGMENT</th>\n",
       "      <th>SEGMENTATION</th>\n",
       "      <th>MICROSEGMENTATION</th>\n",
       "      <th>DEVICE_MODEL_NAME</th>\n",
       "      <th>DEVICE_VENDOR_NAME</th>\n",
       "      <th>...</th>\n",
       "      <th>PREP_RECH_AMT_W12</th>\n",
       "      <th>TRD_M1</th>\n",
       "      <th>TRD_M2</th>\n",
       "      <th>TRD_M3</th>\n",
       "      <th>TRD_STR_M1</th>\n",
       "      <th>TRD_STR_M2</th>\n",
       "      <th>TRD_STR_M3</th>\n",
       "      <th>TRD_SN_M1</th>\n",
       "      <th>TRD_SN_M2</th>\n",
       "      <th>TRD_SN_M3</th>\n",
       "    </tr>\n",
       "  </thead>\n",
       "  <tbody>\n",
       "  </tbody>\n",
       "</table>\n",
       "<p>0 rows × 63 columns</p>\n",
       "</div>"
      ],
      "text/plain": [
       "Empty DataFrame\n",
       "Columns: [SUSCRIBER_KEY, LAT_PROV_BTS, LON_PROV_BTS, LAT_CITY_BTS, LON_CITY_BTS, VALUE_SEGMENT, SEGMENTATION, MICROSEGMENTATION, DEVICE_MODEL_NAME, DEVICE_VENDOR_NAME, NETWORK_TECH, COMMERCIAL_ACTIVATION_DATE, TENURE_CUSTOMER, TENURE_CUSTOMER_BL, PREP_RECH_Q_EVT_X1, PREP_RECH_Q_EVT_X2, PREP_RECH_Q_EVT_X3, PREP_RECH_AMT_X1, PREP_RECH_AMT_X2, PREP_RECH_AMT_X3, PREP_RECH_Q_MON_12W, PREP_RECH_Q_TUE_12W, PREP_RECH_Q_WEN_12W, PREP_RECH_Q_THUR_12W, PREP_RECH_Q_FRI_12W, PREP_RECH_Q_SAT_12W, PREP_RECH_Q_SUN_12W, PREP_RECH_LAST_DAY_12W, PREP_RECH_NDAYS_LASTRECH_12W, PREP_RECH_CHNNL_MODE12W, PREP_RECH_Q_EVT_W1, PREP_RECH_Q_EVT_W2, PREP_RECH_Q_EVT_W3, PREP_RECH_Q_EVT_W4, PREP_RECH_Q_EVT_W5, PREP_RECH_Q_EVT_W6, PREP_RECH_Q_EVT_W7, PREP_RECH_Q_EVT_W8, PREP_RECH_Q_EVT_W9, PREP_RECH_Q_EVT_W10, PREP_RECH_Q_EVT_W11, PREP_RECH_Q_EVT_W12, PREP_RECH_AMT_W1, PREP_RECH_AMT_W2, PREP_RECH_AMT_W3, PREP_RECH_AMT_W4, PREP_RECH_AMT_W5, PREP_RECH_AMT_W6, PREP_RECH_AMT_W7, PREP_RECH_AMT_W8, PREP_RECH_AMT_W9, PREP_RECH_AMT_W10, PREP_RECH_AMT_W11, PREP_RECH_AMT_W12, TRD_M1, TRD_M2, TRD_M3, TRD_STR_M1, TRD_STR_M2, TRD_STR_M3, TRD_SN_M1, TRD_SN_M2, TRD_SN_M3]\n",
       "Index: []\n",
       "\n",
       "[0 rows x 63 columns]"
      ]
     },
     "execution_count": 5,
     "metadata": {},
     "output_type": "execute_result"
    }
   ],
   "source": [
    "# filas duplicadas\n",
    "data_1[data_1.duplicated()]"
   ]
  },
  {
   "cell_type": "code",
   "execution_count": 8,
   "metadata": {},
   "outputs": [
    {
     "data": {
      "text/plain": [
       "0"
      ]
     },
     "execution_count": 8,
     "metadata": {},
     "output_type": "execute_result"
    }
   ],
   "source": [
    "#No hay filas duplicadas.\n",
    "data_1.duplicated().sum()"
   ]
  },
  {
   "cell_type": "markdown",
   "metadata": {},
   "source": [
    "## **VALORES NULOS**"
   ]
  },
  {
   "cell_type": "code",
   "execution_count": 6,
   "metadata": {},
   "outputs": [
    {
     "name": "stdout",
     "output_type": "stream",
     "text": [
      "LAT_PROV_BTS\n",
      "LON_PROV_BTS\n",
      "LAT_CITY_BTS\n",
      "LON_CITY_BTS\n",
      "DEVICE_MODEL_NAME\n",
      "DEVICE_VENDOR_NAME\n",
      "NETWORK_TECH\n"
     ]
    }
   ],
   "source": [
    "# columnas con valores nulos\n",
    "for col in data_1.columns:\n",
    "    if data_1[col].isnull().sum()>0:\n",
    "        print(col)"
   ]
  },
  {
   "cell_type": "code",
   "execution_count": 7,
   "metadata": {},
   "outputs": [],
   "source": [
    "#cantidad de nulos por columna\n",
    "nullcount = {col:data_1[col].isnull().sum() for col in data_1.columns}"
   ]
  },
  {
   "cell_type": "code",
   "execution_count": 11,
   "metadata": {},
   "outputs": [
    {
     "data": {
      "text/plain": [
       "{'SUSCRIBER_KEY': 0,\n",
       " 'LAT_PROV_BTS': 734,\n",
       " 'LON_PROV_BTS': 734,\n",
       " 'LAT_CITY_BTS': 734,\n",
       " 'LON_CITY_BTS': 734,\n",
       " 'VALUE_SEGMENT': 0,\n",
       " 'SEGMENTATION': 0,\n",
       " 'MICROSEGMENTATION': 0,\n",
       " 'DEVICE_MODEL_NAME': 879,\n",
       " 'DEVICE_VENDOR_NAME': 879,\n",
       " 'NETWORK_TECH': 73408,\n",
       " 'COMMERCIAL_ACTIVATION_DATE': 0,\n",
       " 'TENURE_CUSTOMER': 0,\n",
       " 'TENURE_CUSTOMER_BL': 0,\n",
       " 'PREP_RECH_Q_EVT_X1': 0,\n",
       " 'PREP_RECH_Q_EVT_X2': 0,\n",
       " 'PREP_RECH_Q_EVT_X3': 0,\n",
       " 'PREP_RECH_AMT_X1': 0,\n",
       " 'PREP_RECH_AMT_X2': 0,\n",
       " 'PREP_RECH_AMT_X3': 0,\n",
       " 'PREP_RECH_Q_MON_12W': 0,\n",
       " 'PREP_RECH_Q_TUE_12W': 0,\n",
       " 'PREP_RECH_Q_WEN_12W': 0,\n",
       " 'PREP_RECH_Q_THUR_12W': 0,\n",
       " 'PREP_RECH_Q_FRI_12W': 0,\n",
       " 'PREP_RECH_Q_SAT_12W': 0,\n",
       " 'PREP_RECH_Q_SUN_12W': 0,\n",
       " 'PREP_RECH_LAST_DAY_12W': 0,\n",
       " 'PREP_RECH_NDAYS_LASTRECH_12W': 0,\n",
       " 'PREP_RECH_CHNNL_MODE12W': 0,\n",
       " 'PREP_RECH_Q_EVT_W1': 0,\n",
       " 'PREP_RECH_Q_EVT_W2': 0,\n",
       " 'PREP_RECH_Q_EVT_W3': 0,\n",
       " 'PREP_RECH_Q_EVT_W4': 0,\n",
       " 'PREP_RECH_Q_EVT_W5': 0,\n",
       " 'PREP_RECH_Q_EVT_W6': 0,\n",
       " 'PREP_RECH_Q_EVT_W7': 0,\n",
       " 'PREP_RECH_Q_EVT_W8': 0,\n",
       " 'PREP_RECH_Q_EVT_W9': 0,\n",
       " 'PREP_RECH_Q_EVT_W10': 0,\n",
       " 'PREP_RECH_Q_EVT_W11': 0,\n",
       " 'PREP_RECH_Q_EVT_W12': 0,\n",
       " 'PREP_RECH_AMT_W1': 0,\n",
       " 'PREP_RECH_AMT_W2': 0,\n",
       " 'PREP_RECH_AMT_W3': 0,\n",
       " 'PREP_RECH_AMT_W4': 0,\n",
       " 'PREP_RECH_AMT_W5': 0,\n",
       " 'PREP_RECH_AMT_W6': 0,\n",
       " 'PREP_RECH_AMT_W7': 0,\n",
       " 'PREP_RECH_AMT_W8': 0,\n",
       " 'PREP_RECH_AMT_W9': 0,\n",
       " 'PREP_RECH_AMT_W10': 0,\n",
       " 'PREP_RECH_AMT_W11': 0,\n",
       " 'PREP_RECH_AMT_W12': 0,\n",
       " 'TRD_M1': 0,\n",
       " 'TRD_M2': 0,\n",
       " 'TRD_M3': 0,\n",
       " 'TRD_STR_M1': 0,\n",
       " 'TRD_STR_M2': 0,\n",
       " 'TRD_STR_M3': 0,\n",
       " 'TRD_SN_M1': 0,\n",
       " 'TRD_SN_M2': 0,\n",
       " 'TRD_SN_M3': 0}"
      ]
     },
     "execution_count": 11,
     "metadata": {},
     "output_type": "execute_result"
    }
   ],
   "source": [
    "nullcount"
   ]
  },
  {
   "cell_type": "code",
   "execution_count": 12,
   "metadata": {},
   "outputs": [],
   "source": [
    "missing = pd.Series(nullcount)"
   ]
  },
  {
   "cell_type": "code",
   "execution_count": 14,
   "metadata": {},
   "outputs": [
    {
     "data": {
      "text/plain": [
       "<matplotlib.axes._subplots.AxesSubplot at 0x195b39d3d88>"
      ]
     },
     "execution_count": 14,
     "metadata": {},
     "output_type": "execute_result"
    },
    {
     "data": {
      "image/png": "[encoded data removed]",
      "text/plain": [
       "<Figure size 432x288 with 1 Axes>"
      ]
     },
     "metadata": {
      "needs_background": "light"
     },
     "output_type": "display_data"
    }
   ],
   "source": [
    "# Procentaje de valores nulos dentro de las columnas. Ninguna es mayor al 20%.\n",
    "missing[missing>0].div(data_1.shape[0]).plot.bar()"
   ]
  },
  {
   "cell_type": "markdown",
   "metadata": {},
   "source": [
    "### Tratamos la columna NETWORK TECH"
   ]
  },
  {
   "cell_type": "code",
   "execution_count": 21,
   "metadata": {},
   "outputs": [
    {
     "data": {
      "text/plain": [
       "0    LTE\n",
       "dtype: object"
      ]
     },
     "execution_count": 21,
     "metadata": {},
     "output_type": "execute_result"
    }
   ],
   "source": [
    "#el valor mas repetido \n",
    "data_1['NETWORK_TECH'].mode()"
   ]
  },
  {
   "cell_type": "code",
   "execution_count": 8,
   "metadata": {},
   "outputs": [
    {
     "data": {
      "text/plain": [
       "LTE    0.606979\n",
       "3G     0.353381\n",
       "2G     0.039640\n",
       "Name: NETWORK_TECH, dtype: float64"
      ]
     },
     "execution_count": 8,
     "metadata": {},
     "output_type": "execute_result"
    }
   ],
   "source": [
    "# vemos el porcentaje con que se repite cada valor\n",
    "data_1['NETWORK_TECH'].value_counts(normalize=True)"
   ]
  },
  {
   "cell_type": "code",
   "execution_count": 9,
   "metadata": {},
   "outputs": [],
   "source": [
    "#reemplazamos los valores nulos con LTE que es el valor mas frecuente\n",
    "data_1.loc[data_1['NETWORK_TECH'].isnull(),'NETWORK_TECH']='LTE'"
   ]
  },
  {
   "cell_type": "code",
   "execution_count": 10,
   "metadata": {},
   "outputs": [
    {
     "data": {
      "text/plain": [
       "0"
      ]
     },
     "execution_count": 10,
     "metadata": {},
     "output_type": "execute_result"
    }
   ],
   "source": [
    "#corroboramos la cantidad de nulos que quedaron \n",
    "data_1['NETWORK_TECH'].isnull().sum()"
   ]
  },
  {
   "cell_type": "markdown",
   "metadata": {},
   "source": [
    "### Tratamos el MODELO Y LA MARCA DEL DISPOSITIVO "
   ]
  },
  {
   "cell_type": "code",
   "execution_count": 11,
   "metadata": {},
   "outputs": [
    {
     "data": {
      "text/plain": [
       "NOT_IDENTIFIED                           43057\n",
       "GALAXY GRAND PRIME DUOS (SM-G532M DS)    33608\n",
       "GALAXY GRAND NEO (GT-I9060C)              9270\n",
       "GALAXY J7 DUOS LTE (SM-J700MDS)           7627\n",
       "Y5 2018 (DRA-LX3)                         6642\n",
       "                                         ...  \n",
       "GT-I9195L GALAXY S4 MINI LTE                 1\n",
       "5 DS (TA-1044)                               1\n",
       "M68                                          1\n",
       "XT530                                        1\n",
       "PEARL8120                                    1\n",
       "Name: DEVICE_MODEL_NAME, Length: 2476, dtype: int64"
      ]
     },
     "execution_count": 11,
     "metadata": {},
     "output_type": "execute_result"
    }
   ],
   "source": [
    "# vemos los diferentes valores y la cantidad del 'modelo del dispositivo'\n",
    "data_1['DEVICE_MODEL_NAME'].value_counts()"
   ]
  },
  {
   "cell_type": "code",
   "execution_count": 35,
   "metadata": {},
   "outputs": [
    {
     "data": {
      "text/plain": [
       "SAMSUNG           160363\n",
       "HUAWEI             55359\n",
       "NOT_IDENTIFIED     43936\n",
       "LG                 16475\n",
       "BLU                 9804\n",
       "                   ...  \n",
       "D-LINK                 1\n",
       "GFEN                   1\n",
       "LEFE                   1\n",
       "KYOCERA                1\n",
       "JINGWAH                1\n",
       "Name: DEVICE_VENDOR_NAME, Length: 233, dtype: int64"
      ]
     },
     "execution_count": 35,
     "metadata": {},
     "output_type": "execute_result"
    }
   ],
   "source": [
    "# vemos los diferentes valores y la cantidad de la marca del dispositivo\n",
    "data_1['DEVICE_VENDOR_NAME'].value_counts()"
   ]
  },
  {
   "cell_type": "code",
   "execution_count": 27,
   "metadata": {},
   "outputs": [
    {
     "data": {
      "text/html": [
       "<div>\n",
       "<style scoped>\n",
       "    .dataframe tbody tr th:only-of-type {\n",
       "        vertical-align: middle;\n",
       "    }\n",
       "\n",
       "    .dataframe tbody tr th {\n",
       "        vertical-align: top;\n",
       "    }\n",
       "\n",
       "    .dataframe thead th {\n",
       "        text-align: right;\n",
       "    }\n",
       "</style>\n",
       "<table border=\"1\" class=\"dataframe\">\n",
       "  <thead>\n",
       "    <tr style=\"text-align: right;\">\n",
       "      <th></th>\n",
       "      <th>SUSCRIBER_KEY</th>\n",
       "      <th>LAT_PROV_BTS</th>\n",
       "      <th>LON_PROV_BTS</th>\n",
       "      <th>LAT_CITY_BTS</th>\n",
       "      <th>LON_CITY_BTS</th>\n",
       "      <th>VALUE_SEGMENT</th>\n",
       "      <th>SEGMENTATION</th>\n",
       "      <th>MICROSEGMENTATION</th>\n",
       "      <th>DEVICE_MODEL_NAME</th>\n",
       "      <th>DEVICE_VENDOR_NAME</th>\n",
       "      <th>NETWORK_TECH</th>\n",
       "      <th>COMMERCIAL_ACTIVATION_DATE</th>\n",
       "      <th>TENURE_CUSTOMER</th>\n",
       "      <th>TENURE_CUSTOMER_BL</th>\n",
       "      <th>PREP_RECH_Q_EVT_X1</th>\n",
       "      <th>PREP_RECH_Q_EVT_X2</th>\n",
       "      <th>PREP_RECH_Q_EVT_X3</th>\n",
       "      <th>PREP_RECH_AMT_X1</th>\n",
       "      <th>PREP_RECH_AMT_X2</th>\n",
       "      <th>PREP_RECH_AMT_X3</th>\n",
       "      <th>PREP_RECH_Q_MON_12W</th>\n",
       "      <th>PREP_RECH_Q_TUE_12W</th>\n",
       "      <th>PREP_RECH_Q_WEN_12W</th>\n",
       "      <th>PREP_RECH_Q_THUR_12W</th>\n",
       "      <th>PREP_RECH_Q_FRI_12W</th>\n",
       "      <th>PREP_RECH_Q_SAT_12W</th>\n",
       "      <th>PREP_RECH_Q_SUN_12W</th>\n",
       "      <th>PREP_RECH_LAST_DAY_12W</th>\n",
       "      <th>PREP_RECH_NDAYS_LASTRECH_12W</th>\n",
       "      <th>PREP_RECH_CHNNL_MODE12W</th>\n",
       "      <th>PREP_RECH_Q_EVT_W1</th>\n",
       "      <th>PREP_RECH_Q_EVT_W2</th>\n",
       "      <th>PREP_RECH_Q_EVT_W3</th>\n",
       "      <th>PREP_RECH_Q_EVT_W4</th>\n",
       "      <th>PREP_RECH_Q_EVT_W5</th>\n",
       "      <th>PREP_RECH_Q_EVT_W6</th>\n",
       "      <th>PREP_RECH_Q_EVT_W7</th>\n",
       "      <th>PREP_RECH_Q_EVT_W8</th>\n",
       "      <th>PREP_RECH_Q_EVT_W9</th>\n",
       "      <th>PREP_RECH_Q_EVT_W10</th>\n",
       "      <th>PREP_RECH_Q_EVT_W11</th>\n",
       "      <th>PREP_RECH_Q_EVT_W12</th>\n",
       "      <th>PREP_RECH_AMT_W1</th>\n",
       "      <th>PREP_RECH_AMT_W2</th>\n",
       "      <th>PREP_RECH_AMT_W3</th>\n",
       "      <th>PREP_RECH_AMT_W4</th>\n",
       "      <th>PREP_RECH_AMT_W5</th>\n",
       "      <th>PREP_RECH_AMT_W6</th>\n",
       "      <th>PREP_RECH_AMT_W7</th>\n",
       "      <th>PREP_RECH_AMT_W8</th>\n",
       "      <th>PREP_RECH_AMT_W9</th>\n",
       "      <th>PREP_RECH_AMT_W10</th>\n",
       "      <th>PREP_RECH_AMT_W11</th>\n",
       "      <th>PREP_RECH_AMT_W12</th>\n",
       "      <th>TRD_M1</th>\n",
       "      <th>TRD_M2</th>\n",
       "      <th>TRD_M3</th>\n",
       "      <th>TRD_STR_M1</th>\n",
       "      <th>TRD_STR_M2</th>\n",
       "      <th>TRD_STR_M3</th>\n",
       "      <th>TRD_SN_M1</th>\n",
       "      <th>TRD_SN_M2</th>\n",
       "      <th>TRD_SN_M3</th>\n",
       "    </tr>\n",
       "  </thead>\n",
       "  <tbody>\n",
       "    <tr>\n",
       "      <th>342</th>\n",
       "      <td>E_67000483_20150602</td>\n",
       "      <td>9.18520</td>\n",
       "      <td>-80.05350</td>\n",
       "      <td>-79.90011</td>\n",
       "      <td>9.35451</td>\n",
       "      <td>2 - GOLD</td>\n",
       "      <td>2-PD</td>\n",
       "      <td>PD1</td>\n",
       "      <td>NaN</td>\n",
       "      <td>NaN</td>\n",
       "      <td>3G</td>\n",
       "      <td>02-JUN-15</td>\n",
       "      <td>53</td>\n",
       "      <td>53</td>\n",
       "      <td>4</td>\n",
       "      <td>4</td>\n",
       "      <td>4</td>\n",
       "      <td>10.0</td>\n",
       "      <td>10.0</td>\n",
       "      <td>10.0</td>\n",
       "      <td>0</td>\n",
       "      <td>3</td>\n",
       "      <td>3</td>\n",
       "      <td>3</td>\n",
       "      <td>4</td>\n",
       "      <td>3</td>\n",
       "      <td>0</td>\n",
       "      <td>31-AUG-19</td>\n",
       "      <td>10</td>\n",
       "      <td>EMG,1;MULE,1;UGW,4</td>\n",
       "      <td>0</td>\n",
       "      <td>3</td>\n",
       "      <td>0</td>\n",
       "      <td>3</td>\n",
       "      <td>0</td>\n",
       "      <td>3</td>\n",
       "      <td>0</td>\n",
       "      <td>3</td>\n",
       "      <td>0</td>\n",
       "      <td>3</td>\n",
       "      <td>3</td>\n",
       "      <td>0</td>\n",
       "      <td>0.0</td>\n",
       "      <td>5.0</td>\n",
       "      <td>0.0</td>\n",
       "      <td>5.0</td>\n",
       "      <td>0.0</td>\n",
       "      <td>5.0</td>\n",
       "      <td>0.0</td>\n",
       "      <td>5.0</td>\n",
       "      <td>0.0</td>\n",
       "      <td>5.0</td>\n",
       "      <td>5.0</td>\n",
       "      <td>0.0</td>\n",
       "      <td>5.44</td>\n",
       "      <td>5.90</td>\n",
       "      <td>5.50</td>\n",
       "      <td>1838</td>\n",
       "      <td>1701</td>\n",
       "      <td>56</td>\n",
       "      <td>494</td>\n",
       "      <td>116</td>\n",
       "      <td>97</td>\n",
       "    </tr>\n",
       "    <tr>\n",
       "      <th>484</th>\n",
       "      <td>E_66513734_20150602</td>\n",
       "      <td>9.08320</td>\n",
       "      <td>-79.59240</td>\n",
       "      <td>-79.51973</td>\n",
       "      <td>8.99360</td>\n",
       "      <td>2 - GOLD</td>\n",
       "      <td>5-PV</td>\n",
       "      <td>PV1</td>\n",
       "      <td>NaN</td>\n",
       "      <td>NaN</td>\n",
       "      <td>LTE</td>\n",
       "      <td>02-JUN-15</td>\n",
       "      <td>53</td>\n",
       "      <td>53</td>\n",
       "      <td>4</td>\n",
       "      <td>5</td>\n",
       "      <td>6</td>\n",
       "      <td>30.0</td>\n",
       "      <td>45.0</td>\n",
       "      <td>60.0</td>\n",
       "      <td>5</td>\n",
       "      <td>0</td>\n",
       "      <td>3</td>\n",
       "      <td>4</td>\n",
       "      <td>5</td>\n",
       "      <td>0</td>\n",
       "      <td>0</td>\n",
       "      <td>29-AUG-19</td>\n",
       "      <td>12</td>\n",
       "      <td>UGW,9</td>\n",
       "      <td>0</td>\n",
       "      <td>3</td>\n",
       "      <td>0</td>\n",
       "      <td>3</td>\n",
       "      <td>3</td>\n",
       "      <td>3</td>\n",
       "      <td>3</td>\n",
       "      <td>0</td>\n",
       "      <td>4</td>\n",
       "      <td>0</td>\n",
       "      <td>3</td>\n",
       "      <td>3</td>\n",
       "      <td>0.0</td>\n",
       "      <td>15.0</td>\n",
       "      <td>0.0</td>\n",
       "      <td>15.0</td>\n",
       "      <td>15.0</td>\n",
       "      <td>15.0</td>\n",
       "      <td>15.0</td>\n",
       "      <td>0.0</td>\n",
       "      <td>30.0</td>\n",
       "      <td>0.0</td>\n",
       "      <td>15.0</td>\n",
       "      <td>15.0</td>\n",
       "      <td>0.00</td>\n",
       "      <td>0.00</td>\n",
       "      <td>0.00</td>\n",
       "      <td>0</td>\n",
       "      <td>0</td>\n",
       "      <td>0</td>\n",
       "      <td>0</td>\n",
       "      <td>0</td>\n",
       "      <td>0</td>\n",
       "    </tr>\n",
       "    <tr>\n",
       "      <th>1187</th>\n",
       "      <td>E_69839536_20190325</td>\n",
       "      <td>8.79528</td>\n",
       "      <td>-80.14711</td>\n",
       "      <td>-79.88333</td>\n",
       "      <td>8.75000</td>\n",
       "      <td>2 - GOLD</td>\n",
       "      <td>2-PD</td>\n",
       "      <td>DO4</td>\n",
       "      <td>NaN</td>\n",
       "      <td>NaN</td>\n",
       "      <td>3G</td>\n",
       "      <td>25-MAR-19</td>\n",
       "      <td>7</td>\n",
       "      <td>7</td>\n",
       "      <td>6</td>\n",
       "      <td>4</td>\n",
       "      <td>3</td>\n",
       "      <td>18.0</td>\n",
       "      <td>20.0</td>\n",
       "      <td>5.0</td>\n",
       "      <td>0</td>\n",
       "      <td>3</td>\n",
       "      <td>0</td>\n",
       "      <td>5</td>\n",
       "      <td>0</td>\n",
       "      <td>3</td>\n",
       "      <td>4</td>\n",
       "      <td>07-SEP-19</td>\n",
       "      <td>3</td>\n",
       "      <td>EMG,1;UGW,6</td>\n",
       "      <td>4</td>\n",
       "      <td>0</td>\n",
       "      <td>3</td>\n",
       "      <td>3</td>\n",
       "      <td>0</td>\n",
       "      <td>3</td>\n",
       "      <td>0</td>\n",
       "      <td>3</td>\n",
       "      <td>3</td>\n",
       "      <td>0</td>\n",
       "      <td>0</td>\n",
       "      <td>0</td>\n",
       "      <td>8.0</td>\n",
       "      <td>0.0</td>\n",
       "      <td>5.0</td>\n",
       "      <td>5.0</td>\n",
       "      <td>0.0</td>\n",
       "      <td>10.0</td>\n",
       "      <td>0.0</td>\n",
       "      <td>10.0</td>\n",
       "      <td>5.0</td>\n",
       "      <td>0.0</td>\n",
       "      <td>0.0</td>\n",
       "      <td>0.0</td>\n",
       "      <td>7.40</td>\n",
       "      <td>5.48</td>\n",
       "      <td>1.56</td>\n",
       "      <td>103</td>\n",
       "      <td>143</td>\n",
       "      <td>290</td>\n",
       "      <td>3264</td>\n",
       "      <td>4043</td>\n",
       "      <td>1019</td>\n",
       "    </tr>\n",
       "    <tr>\n",
       "      <th>1307</th>\n",
       "      <td>E_60955531_20190202</td>\n",
       "      <td>9.08320</td>\n",
       "      <td>-79.59240</td>\n",
       "      <td>-79.51973</td>\n",
       "      <td>8.99360</td>\n",
       "      <td>1 - PLATINUM</td>\n",
       "      <td>1-HCV</td>\n",
       "      <td>HCV1</td>\n",
       "      <td>NaN</td>\n",
       "      <td>NaN</td>\n",
       "      <td>LTE</td>\n",
       "      <td>02-FEB-19</td>\n",
       "      <td>9</td>\n",
       "      <td>9</td>\n",
       "      <td>10</td>\n",
       "      <td>17</td>\n",
       "      <td>10</td>\n",
       "      <td>40.0</td>\n",
       "      <td>72.0</td>\n",
       "      <td>36.5</td>\n",
       "      <td>7</td>\n",
       "      <td>7</td>\n",
       "      <td>10</td>\n",
       "      <td>5</td>\n",
       "      <td>6</td>\n",
       "      <td>4</td>\n",
       "      <td>6</td>\n",
       "      <td>03-SEP-19</td>\n",
       "      <td>7</td>\n",
       "      <td>N/A,2;UGW,29</td>\n",
       "      <td>3</td>\n",
       "      <td>5</td>\n",
       "      <td>4</td>\n",
       "      <td>4</td>\n",
       "      <td>5</td>\n",
       "      <td>5</td>\n",
       "      <td>7</td>\n",
       "      <td>6</td>\n",
       "      <td>0</td>\n",
       "      <td>6</td>\n",
       "      <td>4</td>\n",
       "      <td>4</td>\n",
       "      <td>5.0</td>\n",
       "      <td>15.0</td>\n",
       "      <td>10.0</td>\n",
       "      <td>10.0</td>\n",
       "      <td>15.0</td>\n",
       "      <td>15.0</td>\n",
       "      <td>25.0</td>\n",
       "      <td>17.0</td>\n",
       "      <td>0.0</td>\n",
       "      <td>16.5</td>\n",
       "      <td>10.0</td>\n",
       "      <td>10.0</td>\n",
       "      <td>3.03</td>\n",
       "      <td>0.47</td>\n",
       "      <td>0.00</td>\n",
       "      <td>805</td>\n",
       "      <td>0</td>\n",
       "      <td>0</td>\n",
       "      <td>0</td>\n",
       "      <td>0</td>\n",
       "      <td>0</td>\n",
       "    </tr>\n",
       "    <tr>\n",
       "      <th>1652</th>\n",
       "      <td>E_63945743_20180809</td>\n",
       "      <td>9.08320</td>\n",
       "      <td>-79.59240</td>\n",
       "      <td>-79.51973</td>\n",
       "      <td>8.99360</td>\n",
       "      <td>3 - SILVER</td>\n",
       "      <td>4-VD</td>\n",
       "      <td>VD3</td>\n",
       "      <td>NaN</td>\n",
       "      <td>NaN</td>\n",
       "      <td>LTE</td>\n",
       "      <td>09-AUG-18</td>\n",
       "      <td>14</td>\n",
       "      <td>14</td>\n",
       "      <td>3</td>\n",
       "      <td>3</td>\n",
       "      <td>3</td>\n",
       "      <td>10.0</td>\n",
       "      <td>10.0</td>\n",
       "      <td>10.0</td>\n",
       "      <td>3</td>\n",
       "      <td>0</td>\n",
       "      <td>3</td>\n",
       "      <td>0</td>\n",
       "      <td>3</td>\n",
       "      <td>0</td>\n",
       "      <td>0</td>\n",
       "      <td>02-SEP-19</td>\n",
       "      <td>8</td>\n",
       "      <td>UGW,3</td>\n",
       "      <td>3</td>\n",
       "      <td>0</td>\n",
       "      <td>0</td>\n",
       "      <td>0</td>\n",
       "      <td>0</td>\n",
       "      <td>3</td>\n",
       "      <td>0</td>\n",
       "      <td>0</td>\n",
       "      <td>0</td>\n",
       "      <td>3</td>\n",
       "      <td>0</td>\n",
       "      <td>0</td>\n",
       "      <td>10.0</td>\n",
       "      <td>0.0</td>\n",
       "      <td>0.0</td>\n",
       "      <td>0.0</td>\n",
       "      <td>0.0</td>\n",
       "      <td>10.0</td>\n",
       "      <td>0.0</td>\n",
       "      <td>0.0</td>\n",
       "      <td>0.0</td>\n",
       "      <td>10.0</td>\n",
       "      <td>0.0</td>\n",
       "      <td>0.0</td>\n",
       "      <td>3.16</td>\n",
       "      <td>3.78</td>\n",
       "      <td>3.38</td>\n",
       "      <td>78</td>\n",
       "      <td>164</td>\n",
       "      <td>138</td>\n",
       "      <td>0</td>\n",
       "      <td>0</td>\n",
       "      <td>0</td>\n",
       "    </tr>\n",
       "    <tr>\n",
       "      <th>...</th>\n",
       "      <td>...</td>\n",
       "      <td>...</td>\n",
       "      <td>...</td>\n",
       "      <td>...</td>\n",
       "      <td>...</td>\n",
       "      <td>...</td>\n",
       "      <td>...</td>\n",
       "      <td>...</td>\n",
       "      <td>...</td>\n",
       "      <td>...</td>\n",
       "      <td>...</td>\n",
       "      <td>...</td>\n",
       "      <td>...</td>\n",
       "      <td>...</td>\n",
       "      <td>...</td>\n",
       "      <td>...</td>\n",
       "      <td>...</td>\n",
       "      <td>...</td>\n",
       "      <td>...</td>\n",
       "      <td>...</td>\n",
       "      <td>...</td>\n",
       "      <td>...</td>\n",
       "      <td>...</td>\n",
       "      <td>...</td>\n",
       "      <td>...</td>\n",
       "      <td>...</td>\n",
       "      <td>...</td>\n",
       "      <td>...</td>\n",
       "      <td>...</td>\n",
       "      <td>...</td>\n",
       "      <td>...</td>\n",
       "      <td>...</td>\n",
       "      <td>...</td>\n",
       "      <td>...</td>\n",
       "      <td>...</td>\n",
       "      <td>...</td>\n",
       "      <td>...</td>\n",
       "      <td>...</td>\n",
       "      <td>...</td>\n",
       "      <td>...</td>\n",
       "      <td>...</td>\n",
       "      <td>...</td>\n",
       "      <td>...</td>\n",
       "      <td>...</td>\n",
       "      <td>...</td>\n",
       "      <td>...</td>\n",
       "      <td>...</td>\n",
       "      <td>...</td>\n",
       "      <td>...</td>\n",
       "      <td>...</td>\n",
       "      <td>...</td>\n",
       "      <td>...</td>\n",
       "      <td>...</td>\n",
       "      <td>...</td>\n",
       "      <td>...</td>\n",
       "      <td>...</td>\n",
       "      <td>...</td>\n",
       "      <td>...</td>\n",
       "      <td>...</td>\n",
       "      <td>...</td>\n",
       "      <td>...</td>\n",
       "      <td>...</td>\n",
       "      <td>...</td>\n",
       "    </tr>\n",
       "    <tr>\n",
       "      <th>318218</th>\n",
       "      <td>E_67141210_20150602</td>\n",
       "      <td>8.58480</td>\n",
       "      <td>-82.38850</td>\n",
       "      <td>-82.42000</td>\n",
       "      <td>8.56000</td>\n",
       "      <td>4 - BRONZE</td>\n",
       "      <td>7-LOW</td>\n",
       "      <td>LOW4</td>\n",
       "      <td>NaN</td>\n",
       "      <td>NaN</td>\n",
       "      <td>LTE</td>\n",
       "      <td>02-JUN-15</td>\n",
       "      <td>53</td>\n",
       "      <td>53</td>\n",
       "      <td>0</td>\n",
       "      <td>3</td>\n",
       "      <td>3</td>\n",
       "      <td>0.0</td>\n",
       "      <td>3.0</td>\n",
       "      <td>5.0</td>\n",
       "      <td>0</td>\n",
       "      <td>0</td>\n",
       "      <td>0</td>\n",
       "      <td>0</td>\n",
       "      <td>0</td>\n",
       "      <td>4</td>\n",
       "      <td>0</td>\n",
       "      <td>03-AUG-19</td>\n",
       "      <td>38</td>\n",
       "      <td>UGW,2</td>\n",
       "      <td>0</td>\n",
       "      <td>0</td>\n",
       "      <td>0</td>\n",
       "      <td>0</td>\n",
       "      <td>0</td>\n",
       "      <td>3</td>\n",
       "      <td>0</td>\n",
       "      <td>0</td>\n",
       "      <td>0</td>\n",
       "      <td>0</td>\n",
       "      <td>0</td>\n",
       "      <td>3</td>\n",
       "      <td>0.0</td>\n",
       "      <td>0.0</td>\n",
       "      <td>0.0</td>\n",
       "      <td>0.0</td>\n",
       "      <td>0.0</td>\n",
       "      <td>3.0</td>\n",
       "      <td>0.0</td>\n",
       "      <td>0.0</td>\n",
       "      <td>0.0</td>\n",
       "      <td>0.0</td>\n",
       "      <td>0.0</td>\n",
       "      <td>5.0</td>\n",
       "      <td>0.00</td>\n",
       "      <td>0.00</td>\n",
       "      <td>0.00</td>\n",
       "      <td>0</td>\n",
       "      <td>0</td>\n",
       "      <td>0</td>\n",
       "      <td>0</td>\n",
       "      <td>0</td>\n",
       "      <td>0</td>\n",
       "    </tr>\n",
       "    <tr>\n",
       "      <th>318268</th>\n",
       "      <td>E_66846793_20150602</td>\n",
       "      <td>9.08320</td>\n",
       "      <td>-79.59240</td>\n",
       "      <td>-79.51973</td>\n",
       "      <td>8.99360</td>\n",
       "      <td>2 - GOLD</td>\n",
       "      <td>3-DO</td>\n",
       "      <td>DO4</td>\n",
       "      <td>NaN</td>\n",
       "      <td>NaN</td>\n",
       "      <td>3G</td>\n",
       "      <td>02-JUN-15</td>\n",
       "      <td>53</td>\n",
       "      <td>53</td>\n",
       "      <td>4</td>\n",
       "      <td>3</td>\n",
       "      <td>3</td>\n",
       "      <td>30.0</td>\n",
       "      <td>15.0</td>\n",
       "      <td>15.0</td>\n",
       "      <td>0</td>\n",
       "      <td>3</td>\n",
       "      <td>3</td>\n",
       "      <td>3</td>\n",
       "      <td>0</td>\n",
       "      <td>0</td>\n",
       "      <td>3</td>\n",
       "      <td>29-AUG-19</td>\n",
       "      <td>12</td>\n",
       "      <td>UGW,4</td>\n",
       "      <td>0</td>\n",
       "      <td>3</td>\n",
       "      <td>0</td>\n",
       "      <td>3</td>\n",
       "      <td>0</td>\n",
       "      <td>0</td>\n",
       "      <td>0</td>\n",
       "      <td>3</td>\n",
       "      <td>0</td>\n",
       "      <td>0</td>\n",
       "      <td>0</td>\n",
       "      <td>3</td>\n",
       "      <td>0.0</td>\n",
       "      <td>15.0</td>\n",
       "      <td>0.0</td>\n",
       "      <td>15.0</td>\n",
       "      <td>0.0</td>\n",
       "      <td>0.0</td>\n",
       "      <td>0.0</td>\n",
       "      <td>15.0</td>\n",
       "      <td>0.0</td>\n",
       "      <td>0.0</td>\n",
       "      <td>0.0</td>\n",
       "      <td>15.0</td>\n",
       "      <td>4.19</td>\n",
       "      <td>2.05</td>\n",
       "      <td>1.53</td>\n",
       "      <td>962</td>\n",
       "      <td>156</td>\n",
       "      <td>395</td>\n",
       "      <td>236</td>\n",
       "      <td>143</td>\n",
       "      <td>65</td>\n",
       "    </tr>\n",
       "    <tr>\n",
       "      <th>318380</th>\n",
       "      <td>E_66851117_20160602</td>\n",
       "      <td>9.18520</td>\n",
       "      <td>-80.05350</td>\n",
       "      <td>-79.90011</td>\n",
       "      <td>9.35451</td>\n",
       "      <td>4 - BRONZE</td>\n",
       "      <td>7-LOW</td>\n",
       "      <td>OH2</td>\n",
       "      <td>NaN</td>\n",
       "      <td>NaN</td>\n",
       "      <td>LTE</td>\n",
       "      <td>02-JUN-16</td>\n",
       "      <td>41</td>\n",
       "      <td>41</td>\n",
       "      <td>0</td>\n",
       "      <td>3</td>\n",
       "      <td>5</td>\n",
       "      <td>0.0</td>\n",
       "      <td>5.0</td>\n",
       "      <td>15.0</td>\n",
       "      <td>3</td>\n",
       "      <td>3</td>\n",
       "      <td>3</td>\n",
       "      <td>0</td>\n",
       "      <td>3</td>\n",
       "      <td>0</td>\n",
       "      <td>0</td>\n",
       "      <td>24-JUL-19</td>\n",
       "      <td>48</td>\n",
       "      <td>UGW,4</td>\n",
       "      <td>0</td>\n",
       "      <td>0</td>\n",
       "      <td>0</td>\n",
       "      <td>0</td>\n",
       "      <td>0</td>\n",
       "      <td>0</td>\n",
       "      <td>3</td>\n",
       "      <td>0</td>\n",
       "      <td>0</td>\n",
       "      <td>4</td>\n",
       "      <td>0</td>\n",
       "      <td>3</td>\n",
       "      <td>0.0</td>\n",
       "      <td>0.0</td>\n",
       "      <td>0.0</td>\n",
       "      <td>0.0</td>\n",
       "      <td>0.0</td>\n",
       "      <td>0.0</td>\n",
       "      <td>5.0</td>\n",
       "      <td>0.0</td>\n",
       "      <td>0.0</td>\n",
       "      <td>10.0</td>\n",
       "      <td>0.0</td>\n",
       "      <td>5.0</td>\n",
       "      <td>0.00</td>\n",
       "      <td>0.00</td>\n",
       "      <td>0.00</td>\n",
       "      <td>0</td>\n",
       "      <td>0</td>\n",
       "      <td>0</td>\n",
       "      <td>0</td>\n",
       "      <td>0</td>\n",
       "      <td>0</td>\n",
       "    </tr>\n",
       "    <tr>\n",
       "      <th>318745</th>\n",
       "      <td>E_69567789_20150701</td>\n",
       "      <td>9.08320</td>\n",
       "      <td>-79.59240</td>\n",
       "      <td>-79.95000</td>\n",
       "      <td>8.48333</td>\n",
       "      <td>3 - SILVER</td>\n",
       "      <td>6-OH</td>\n",
       "      <td>OH3</td>\n",
       "      <td>NaN</td>\n",
       "      <td>NaN</td>\n",
       "      <td>LTE</td>\n",
       "      <td>01-JUL-15</td>\n",
       "      <td>52</td>\n",
       "      <td>52</td>\n",
       "      <td>4</td>\n",
       "      <td>5</td>\n",
       "      <td>3</td>\n",
       "      <td>8.0</td>\n",
       "      <td>15.0</td>\n",
       "      <td>5.0</td>\n",
       "      <td>3</td>\n",
       "      <td>3</td>\n",
       "      <td>3</td>\n",
       "      <td>3</td>\n",
       "      <td>0</td>\n",
       "      <td>0</td>\n",
       "      <td>4</td>\n",
       "      <td>26-AUG-19</td>\n",
       "      <td>15</td>\n",
       "      <td>UGW,6</td>\n",
       "      <td>0</td>\n",
       "      <td>3</td>\n",
       "      <td>3</td>\n",
       "      <td>0</td>\n",
       "      <td>3</td>\n",
       "      <td>0</td>\n",
       "      <td>0</td>\n",
       "      <td>4</td>\n",
       "      <td>0</td>\n",
       "      <td>3</td>\n",
       "      <td>0</td>\n",
       "      <td>0</td>\n",
       "      <td>0.0</td>\n",
       "      <td>3.0</td>\n",
       "      <td>5.0</td>\n",
       "      <td>0.0</td>\n",
       "      <td>5.0</td>\n",
       "      <td>0.0</td>\n",
       "      <td>0.0</td>\n",
       "      <td>10.0</td>\n",
       "      <td>0.0</td>\n",
       "      <td>5.0</td>\n",
       "      <td>0.0</td>\n",
       "      <td>0.0</td>\n",
       "      <td>0.00</td>\n",
       "      <td>0.31</td>\n",
       "      <td>0.15</td>\n",
       "      <td>0</td>\n",
       "      <td>29</td>\n",
       "      <td>66</td>\n",
       "      <td>0</td>\n",
       "      <td>0</td>\n",
       "      <td>0</td>\n",
       "    </tr>\n",
       "    <tr>\n",
       "      <th>318906</th>\n",
       "      <td>E_63367678_20190201</td>\n",
       "      <td>8.58480</td>\n",
       "      <td>-82.38850</td>\n",
       "      <td>-82.79940</td>\n",
       "      <td>8.74580</td>\n",
       "      <td>3 - SILVER</td>\n",
       "      <td>3-DO</td>\n",
       "      <td>OH4</td>\n",
       "      <td>NaN</td>\n",
       "      <td>NaN</td>\n",
       "      <td>LTE</td>\n",
       "      <td>01-FEB-19</td>\n",
       "      <td>9</td>\n",
       "      <td>9</td>\n",
       "      <td>8</td>\n",
       "      <td>4</td>\n",
       "      <td>3</td>\n",
       "      <td>11.5</td>\n",
       "      <td>5.0</td>\n",
       "      <td>3.0</td>\n",
       "      <td>3</td>\n",
       "      <td>5</td>\n",
       "      <td>0</td>\n",
       "      <td>3</td>\n",
       "      <td>5</td>\n",
       "      <td>3</td>\n",
       "      <td>0</td>\n",
       "      <td>30-AUG-19</td>\n",
       "      <td>11</td>\n",
       "      <td>N/A,3;UGW,6</td>\n",
       "      <td>0</td>\n",
       "      <td>4</td>\n",
       "      <td>6</td>\n",
       "      <td>0</td>\n",
       "      <td>3</td>\n",
       "      <td>0</td>\n",
       "      <td>0</td>\n",
       "      <td>3</td>\n",
       "      <td>0</td>\n",
       "      <td>0</td>\n",
       "      <td>0</td>\n",
       "      <td>3</td>\n",
       "      <td>0.0</td>\n",
       "      <td>3.5</td>\n",
       "      <td>8.0</td>\n",
       "      <td>0.0</td>\n",
       "      <td>3.0</td>\n",
       "      <td>0.0</td>\n",
       "      <td>0.0</td>\n",
       "      <td>2.0</td>\n",
       "      <td>0.0</td>\n",
       "      <td>0.0</td>\n",
       "      <td>0.0</td>\n",
       "      <td>3.0</td>\n",
       "      <td>1.06</td>\n",
       "      <td>0.11</td>\n",
       "      <td>1.23</td>\n",
       "      <td>24</td>\n",
       "      <td>0</td>\n",
       "      <td>107</td>\n",
       "      <td>254</td>\n",
       "      <td>19</td>\n",
       "      <td>784</td>\n",
       "    </tr>\n",
       "  </tbody>\n",
       "</table>\n",
       "<p>879 rows × 63 columns</p>\n",
       "</div>"
      ],
      "text/plain": [
       "              SUSCRIBER_KEY  LAT_PROV_BTS  LON_PROV_BTS  LAT_CITY_BTS  \\\n",
       "342     E_67000483_20150602       9.18520     -80.05350     -79.90011   \n",
       "484     E_66513734_20150602       9.08320     -79.59240     -79.51973   \n",
       "1187    E_69839536_20190325       8.79528     -80.14711     -79.88333   \n",
       "1307    E_60955531_20190202       9.08320     -79.59240     -79.51973   \n",
       "1652    E_63945743_20180809       9.08320     -79.59240     -79.51973   \n",
       "...                     ...           ...           ...           ...   \n",
       "318218  E_67141210_20150602       8.58480     -82.38850     -82.42000   \n",
       "318268  E_66846793_20150602       9.08320     -79.59240     -79.51973   \n",
       "318380  E_66851117_20160602       9.18520     -80.05350     -79.90011   \n",
       "318745  E_69567789_20150701       9.08320     -79.59240     -79.95000   \n",
       "318906  E_63367678_20190201       8.58480     -82.38850     -82.79940   \n",
       "\n",
       "        LON_CITY_BTS VALUE_SEGMENT SEGMENTATION MICROSEGMENTATION  \\\n",
       "342          9.35451      2 - GOLD         2-PD               PD1   \n",
       "484          8.99360      2 - GOLD         5-PV               PV1   \n",
       "1187         8.75000      2 - GOLD         2-PD               DO4   \n",
       "1307         8.99360  1 - PLATINUM        1-HCV              HCV1   \n",
       "1652         8.99360    3 - SILVER         4-VD               VD3   \n",
       "...              ...           ...          ...               ...   \n",
       "318218       8.56000    4 - BRONZE        7-LOW              LOW4   \n",
       "318268       8.99360      2 - GOLD         3-DO               DO4   \n",
       "318380       9.35451    4 - BRONZE        7-LOW               OH2   \n",
       "318745       8.48333    3 - SILVER         6-OH               OH3   \n",
       "318906       8.74580    3 - SILVER         3-DO               OH4   \n",
       "\n",
       "       DEVICE_MODEL_NAME DEVICE_VENDOR_NAME NETWORK_TECH  \\\n",
       "342                  NaN                NaN           3G   \n",
       "484                  NaN                NaN          LTE   \n",
       "1187                 NaN                NaN           3G   \n",
       "1307                 NaN                NaN          LTE   \n",
       "1652                 NaN                NaN          LTE   \n",
       "...                  ...                ...          ...   \n",
       "318218               NaN                NaN          LTE   \n",
       "318268               NaN                NaN           3G   \n",
       "318380               NaN                NaN          LTE   \n",
       "318745               NaN                NaN          LTE   \n",
       "318906               NaN                NaN          LTE   \n",
       "\n",
       "       COMMERCIAL_ACTIVATION_DATE  TENURE_CUSTOMER  TENURE_CUSTOMER_BL  \\\n",
       "342                     02-JUN-15               53                  53   \n",
       "484                     02-JUN-15               53                  53   \n",
       "1187                    25-MAR-19                7                   7   \n",
       "1307                    02-FEB-19                9                   9   \n",
       "1652                    09-AUG-18               14                  14   \n",
       "...                           ...              ...                 ...   \n",
       "318218                  02-JUN-15               53                  53   \n",
       "318268                  02-JUN-15               53                  53   \n",
       "318380                  02-JUN-16               41                  41   \n",
       "318745                  01-JUL-15               52                  52   \n",
       "318906                  01-FEB-19                9                   9   \n",
       "\n",
       "        PREP_RECH_Q_EVT_X1  PREP_RECH_Q_EVT_X2  PREP_RECH_Q_EVT_X3  \\\n",
       "342                      4                   4                   4   \n",
       "484                      4                   5                   6   \n",
       "1187                     6                   4                   3   \n",
       "1307                    10                  17                  10   \n",
       "1652                     3                   3                   3   \n",
       "...                    ...                 ...                 ...   \n",
       "318218                   0                   3                   3   \n",
       "318268                   4                   3                   3   \n",
       "318380                   0                   3                   5   \n",
       "318745                   4                   5                   3   \n",
       "318906                   8                   4                   3   \n",
       "\n",
       "        PREP_RECH_AMT_X1  PREP_RECH_AMT_X2  PREP_RECH_AMT_X3  \\\n",
       "342                 10.0              10.0              10.0   \n",
       "484                 30.0              45.0              60.0   \n",
       "1187                18.0              20.0               5.0   \n",
       "1307                40.0              72.0              36.5   \n",
       "1652                10.0              10.0              10.0   \n",
       "...                  ...               ...               ...   \n",
       "318218               0.0               3.0               5.0   \n",
       "318268              30.0              15.0              15.0   \n",
       "318380               0.0               5.0              15.0   \n",
       "318745               8.0              15.0               5.0   \n",
       "318906              11.5               5.0               3.0   \n",
       "\n",
       "        PREP_RECH_Q_MON_12W  PREP_RECH_Q_TUE_12W  PREP_RECH_Q_WEN_12W  \\\n",
       "342                       0                    3                    3   \n",
       "484                       5                    0                    3   \n",
       "1187                      0                    3                    0   \n",
       "1307                      7                    7                   10   \n",
       "1652                      3                    0                    3   \n",
       "...                     ...                  ...                  ...   \n",
       "318218                    0                    0                    0   \n",
       "318268                    0                    3                    3   \n",
       "318380                    3                    3                    3   \n",
       "318745                    3                    3                    3   \n",
       "318906                    3                    5                    0   \n",
       "\n",
       "        PREP_RECH_Q_THUR_12W  PREP_RECH_Q_FRI_12W  PREP_RECH_Q_SAT_12W  \\\n",
       "342                        3                    4                    3   \n",
       "484                        4                    5                    0   \n",
       "1187                       5                    0                    3   \n",
       "1307                       5                    6                    4   \n",
       "1652                       0                    3                    0   \n",
       "...                      ...                  ...                  ...   \n",
       "318218                     0                    0                    4   \n",
       "318268                     3                    0                    0   \n",
       "318380                     0                    3                    0   \n",
       "318745                     3                    0                    0   \n",
       "318906                     3                    5                    3   \n",
       "\n",
       "        PREP_RECH_Q_SUN_12W PREP_RECH_LAST_DAY_12W  \\\n",
       "342                       0              31-AUG-19   \n",
       "484                       0              29-AUG-19   \n",
       "1187                      4              07-SEP-19   \n",
       "1307                      6              03-SEP-19   \n",
       "1652                      0              02-SEP-19   \n",
       "...                     ...                    ...   \n",
       "318218                    0              03-AUG-19   \n",
       "318268                    3              29-AUG-19   \n",
       "318380                    0              24-JUL-19   \n",
       "318745                    4              26-AUG-19   \n",
       "318906                    0              30-AUG-19   \n",
       "\n",
       "        PREP_RECH_NDAYS_LASTRECH_12W PREP_RECH_CHNNL_MODE12W  \\\n",
       "342                               10      EMG,1;MULE,1;UGW,4   \n",
       "484                               12                   UGW,9   \n",
       "1187                               3             EMG,1;UGW,6   \n",
       "1307                               7            N/A,2;UGW,29   \n",
       "1652                               8                   UGW,3   \n",
       "...                              ...                     ...   \n",
       "318218                            38                   UGW,2   \n",
       "318268                            12                   UGW,4   \n",
       "318380                            48                   UGW,4   \n",
       "318745                            15                   UGW,6   \n",
       "318906                            11             N/A,3;UGW,6   \n",
       "\n",
       "        PREP_RECH_Q_EVT_W1  PREP_RECH_Q_EVT_W2  PREP_RECH_Q_EVT_W3  \\\n",
       "342                      0                   3                   0   \n",
       "484                      0                   3                   0   \n",
       "1187                     4                   0                   3   \n",
       "1307                     3                   5                   4   \n",
       "1652                     3                   0                   0   \n",
       "...                    ...                 ...                 ...   \n",
       "318218                   0                   0                   0   \n",
       "318268                   0                   3                   0   \n",
       "318380                   0                   0                   0   \n",
       "318745                   0                   3                   3   \n",
       "318906                   0                   4                   6   \n",
       "\n",
       "        PREP_RECH_Q_EVT_W4  PREP_RECH_Q_EVT_W5  PREP_RECH_Q_EVT_W6  \\\n",
       "342                      3                   0                   3   \n",
       "484                      3                   3                   3   \n",
       "1187                     3                   0                   3   \n",
       "1307                     4                   5                   5   \n",
       "1652                     0                   0                   3   \n",
       "...                    ...                 ...                 ...   \n",
       "318218                   0                   0                   3   \n",
       "318268                   3                   0                   0   \n",
       "318380                   0                   0                   0   \n",
       "318745                   0                   3                   0   \n",
       "318906                   0                   3                   0   \n",
       "\n",
       "        PREP_RECH_Q_EVT_W7  PREP_RECH_Q_EVT_W8  PREP_RECH_Q_EVT_W9  \\\n",
       "342                      0                   3                   0   \n",
       "484                      3                   0                   4   \n",
       "1187                     0                   3                   3   \n",
       "1307                     7                   6                   0   \n",
       "1652                     0                   0                   0   \n",
       "...                    ...                 ...                 ...   \n",
       "318218                   0                   0                   0   \n",
       "318268                   0                   3                   0   \n",
       "318380                   3                   0                   0   \n",
       "318745                   0                   4                   0   \n",
       "318906                   0                   3                   0   \n",
       "\n",
       "        PREP_RECH_Q_EVT_W10  PREP_RECH_Q_EVT_W11  PREP_RECH_Q_EVT_W12  \\\n",
       "342                       3                    3                    0   \n",
       "484                       0                    3                    3   \n",
       "1187                      0                    0                    0   \n",
       "1307                      6                    4                    4   \n",
       "1652                      3                    0                    0   \n",
       "...                     ...                  ...                  ...   \n",
       "318218                    0                    0                    3   \n",
       "318268                    0                    0                    3   \n",
       "318380                    4                    0                    3   \n",
       "318745                    3                    0                    0   \n",
       "318906                    0                    0                    3   \n",
       "\n",
       "        PREP_RECH_AMT_W1  PREP_RECH_AMT_W2  PREP_RECH_AMT_W3  \\\n",
       "342                  0.0               5.0               0.0   \n",
       "484                  0.0              15.0               0.0   \n",
       "1187                 8.0               0.0               5.0   \n",
       "1307                 5.0              15.0              10.0   \n",
       "1652                10.0               0.0               0.0   \n",
       "...                  ...               ...               ...   \n",
       "318218               0.0               0.0               0.0   \n",
       "318268               0.0              15.0               0.0   \n",
       "318380               0.0               0.0               0.0   \n",
       "318745               0.0               3.0               5.0   \n",
       "318906               0.0               3.5               8.0   \n",
       "\n",
       "        PREP_RECH_AMT_W4  PREP_RECH_AMT_W5  PREP_RECH_AMT_W6  \\\n",
       "342                  5.0               0.0               5.0   \n",
       "484                 15.0              15.0              15.0   \n",
       "1187                 5.0               0.0              10.0   \n",
       "1307                10.0              15.0              15.0   \n",
       "1652                 0.0               0.0              10.0   \n",
       "...                  ...               ...               ...   \n",
       "318218               0.0               0.0               3.0   \n",
       "318268              15.0               0.0               0.0   \n",
       "318380               0.0               0.0               0.0   \n",
       "318745               0.0               5.0               0.0   \n",
       "318906               0.0               3.0               0.0   \n",
       "\n",
       "        PREP_RECH_AMT_W7  PREP_RECH_AMT_W8  PREP_RECH_AMT_W9  \\\n",
       "342                  0.0               5.0               0.0   \n",
       "484                 15.0               0.0              30.0   \n",
       "1187                 0.0              10.0               5.0   \n",
       "1307                25.0              17.0               0.0   \n",
       "1652                 0.0               0.0               0.0   \n",
       "...                  ...               ...               ...   \n",
       "318218               0.0               0.0               0.0   \n",
       "318268               0.0              15.0               0.0   \n",
       "318380               5.0               0.0               0.0   \n",
       "318745               0.0              10.0               0.0   \n",
       "318906               0.0               2.0               0.0   \n",
       "\n",
       "        PREP_RECH_AMT_W10  PREP_RECH_AMT_W11  PREP_RECH_AMT_W12  TRD_M1  \\\n",
       "342                   5.0                5.0                0.0    5.44   \n",
       "484                   0.0               15.0               15.0    0.00   \n",
       "1187                  0.0                0.0                0.0    7.40   \n",
       "1307                 16.5               10.0               10.0    3.03   \n",
       "1652                 10.0                0.0                0.0    3.16   \n",
       "...                   ...                ...                ...     ...   \n",
       "318218                0.0                0.0                5.0    0.00   \n",
       "318268                0.0                0.0               15.0    4.19   \n",
       "318380               10.0                0.0                5.0    0.00   \n",
       "318745                5.0                0.0                0.0    0.00   \n",
       "318906                0.0                0.0                3.0    1.06   \n",
       "\n",
       "        TRD_M2  TRD_M3  TRD_STR_M1  TRD_STR_M2  TRD_STR_M3  TRD_SN_M1  \\\n",
       "342       5.90    5.50        1838        1701          56        494   \n",
       "484       0.00    0.00           0           0           0          0   \n",
       "1187      5.48    1.56         103         143         290       3264   \n",
       "1307      0.47    0.00         805           0           0          0   \n",
       "1652      3.78    3.38          78         164         138          0   \n",
       "...        ...     ...         ...         ...         ...        ...   \n",
       "318218    0.00    0.00           0           0           0          0   \n",
       "318268    2.05    1.53         962         156         395        236   \n",
       "318380    0.00    0.00           0           0           0          0   \n",
       "318745    0.31    0.15           0          29          66          0   \n",
       "318906    0.11    1.23          24           0         107        254   \n",
       "\n",
       "        TRD_SN_M2  TRD_SN_M3  \n",
       "342           116         97  \n",
       "484             0          0  \n",
       "1187         4043       1019  \n",
       "1307            0          0  \n",
       "1652            0          0  \n",
       "...           ...        ...  \n",
       "318218          0          0  \n",
       "318268        143         65  \n",
       "318380          0          0  \n",
       "318745          0          0  \n",
       "318906         19        784  \n",
       "\n",
       "[879 rows x 63 columns]"
      ]
     },
     "execution_count": 27,
     "metadata": {},
     "output_type": "execute_result"
    }
   ],
   "source": [
    "# pido que me traiga las columnas donde la marca del dispositivo es nulo y veo que coincide cuando el modelo es nulo\n",
    "data_1[data_1['DEVICE_VENDOR_NAME'].isnull()]"
   ]
  },
  {
   "cell_type": "code",
   "execution_count": 12,
   "metadata": {},
   "outputs": [],
   "source": [
    "# reemplazo la columna DEVICE_VENDOR_NAME por NOT_IDENTIFIED\n",
    "data_1.loc[data_1['DEVICE_VENDOR_NAME'].isnull(),'DEVICE_VENDOR_NAME']='NOT_IDENTIFIED'"
   ]
  },
  {
   "cell_type": "code",
   "execution_count": 13,
   "metadata": {},
   "outputs": [
    {
     "data": {
      "text/plain": [
       "0"
      ]
     },
     "execution_count": 13,
     "metadata": {},
     "output_type": "execute_result"
    }
   ],
   "source": [
    "#Corroboro que quede en 0\n",
    "data_1['DEVICE_VENDOR_NAME'].isnull().sum()"
   ]
  },
  {
   "cell_type": "code",
   "execution_count": 14,
   "metadata": {},
   "outputs": [],
   "source": [
    "# reemplazo la columna DEVICE_MODEL_NAME por NOT_IDENTIFIED\n",
    "data_1.loc[data_1['DEVICE_MODEL_NAME'].isnull(),'DEVICE_MODEL_NAME']='NOT_IDENTIFIED'"
   ]
  },
  {
   "cell_type": "code",
   "execution_count": 15,
   "metadata": {},
   "outputs": [
    {
     "data": {
      "text/plain": [
       "0"
      ]
     },
     "execution_count": 15,
     "metadata": {},
     "output_type": "execute_result"
    }
   ],
   "source": [
    "#Corroboro que quede en 0\n",
    "data_1['DEVICE_MODEL_NAME'].isnull().sum()"
   ]
  },
  {
   "cell_type": "markdown",
   "metadata": {},
   "source": [
    "### Tratamos LATITUD Y LONGITUD"
   ]
  },
  {
   "cell_type": "code",
   "execution_count": 16,
   "metadata": {},
   "outputs": [],
   "source": [
    "# eliminamos las filas con los datos nulos de latitud de la provincia ( por ende se eliminaron los de las otras columnas que\n",
    "# tenian latitud y longitud de la ciudad\n",
    "data_1 = data_1[data_1['LAT_PROV_BTS'].notnull()]"
   ]
  },
  {
   "cell_type": "code",
   "execution_count": 17,
   "metadata": {},
   "outputs": [
    {
     "data": {
      "text/plain": [
       "0"
      ]
     },
     "execution_count": 17,
     "metadata": {},
     "output_type": "execute_result"
    }
   ],
   "source": [
    "data_1['LAT_PROV_BTS'].isnull().sum()"
   ]
  },
  {
   "cell_type": "code",
   "execution_count": 18,
   "metadata": {},
   "outputs": [],
   "source": [
    "# corroboramos que no queden valores nulos en ninguna columna\n",
    "for col in data_1.columns:\n",
    "    if data_1[col].isnull().sum()>0:\n",
    "        print(col)"
   ]
  },
  {
   "cell_type": "markdown",
   "metadata": {},
   "source": [
    "## **VALORES MUY EXTREMOS / OUTLIERS**"
   ]
  },
  {
   "cell_type": "markdown",
   "metadata": {},
   "source": [
    "### Tratamos la cantidad de recargas y el monto de recargas MENSUALES"
   ]
  },
  {
   "cell_type": "code",
   "execution_count": 51,
   "metadata": {},
   "outputs": [
    {
     "data": {
      "text/plain": [
       "(array([1, 2, 3]), <a list of 3 Text xticklabel objects>)"
      ]
     },
     "execution_count": 51,
     "metadata": {},
     "output_type": "execute_result"
    },
    {
     "data": {
      "image/png": "[encoded data removed]",
      "text/plain": [
       "<Figure size 432x288 with 1 Axes>"
      ]
     },
     "metadata": {
      "needs_background": "light"
     },
     "output_type": "display_data"
    }
   ],
   "source": [
    "# vemos el comportamiento de la variable CANTIDAD DE RECARGAS MENSUALES en los ultimos 3 meses \n",
    "data_1.boxplot(['PREP_RECH_Q_EVT_X1','PREP_RECH_Q_EVT_X2','PREP_RECH_Q_EVT_X3'])\n",
    "plt.xticks(rotation='vertical')"
   ]
  },
  {
   "cell_type": "code",
   "execution_count": 50,
   "metadata": {},
   "outputs": [
    {
     "data": {
      "text/plain": [
       "(array([1, 2, 3]), <a list of 3 Text xticklabel objects>)"
      ]
     },
     "execution_count": 50,
     "metadata": {},
     "output_type": "execute_result"
    },
    {
     "data": {
      "image/png": "[encoded data removed]",
      "text/plain": [
       "<Figure size 432x288 with 1 Axes>"
      ]
     },
     "metadata": {
      "needs_background": "light"
     },
     "output_type": "display_data"
    }
   ],
   "source": [
    "#vemos el comportamiento de la variable MONTO DE RECARGAS MENSUALES en los ultimos 3 meses \n",
    "data_1.boxplot(['PREP_RECH_AMT_X1','PREP_RECH_AMT_X2','PREP_RECH_AMT_X3'])\n",
    "plt.xticks(rotation='vertical')"
   ]
  },
  {
   "cell_type": "code",
   "execution_count": 46,
   "metadata": {},
   "outputs": [],
   "source": [
    "#Eliminamos valores muy extremos, y solo quedan las filas donde el valor sea menor o igual al quantile 99\n",
    "#CANTIDAD DE RECARGAS ACUMULADAS MENSUALES \n",
    "data_1= data_1[data_1['PREP_RECH_Q_EVT_X1']<=data_1['PREP_RECH_Q_EVT_X1'].quantile(0.99)]\n",
    "data_1= data_1[data_1['PREP_RECH_Q_EVT_X2']<=data_1['PREP_RECH_Q_EVT_X2'].quantile(0.99)]\n",
    "data_1= data_1[data_1['PREP_RECH_Q_EVT_X3']<=data_1['PREP_RECH_Q_EVT_X3'].quantile(0.99)]"
   ]
  },
  {
   "cell_type": "code",
   "execution_count": 49,
   "metadata": {},
   "outputs": [
    {
     "data": {
      "text/plain": [
       "(301429, 63)"
      ]
     },
     "execution_count": 49,
     "metadata": {},
     "output_type": "execute_result"
    }
   ],
   "source": [
    "data_1.shape"
   ]
  },
  {
   "cell_type": "code",
   "execution_count": 47,
   "metadata": {},
   "outputs": [],
   "source": [
    "#Eliminamos los valores muy extremos, y te quedas con las filas donde el valor sea menor o igual al quantile 99\n",
    "#MONTO DE RECARGAS ACUMULADAS MENSUALES \n",
    "data_1= data_1[data_1['PREP_RECH_AMT_X1']<=data_1['PREP_RECH_AMT_X1'].quantile(0.99)]\n",
    "data_1= data_1[data_1['PREP_RECH_AMT_X2']<=data_1['PREP_RECH_AMT_X2'].quantile(0.99)]\n",
    "data_1= data_1[data_1['PREP_RECH_AMT_X3']<=data_1['PREP_RECH_AMT_X3'].quantile(0.99)]"
   ]
  },
  {
   "cell_type": "code",
   "execution_count": 48,
   "metadata": {
    "scrolled": true
   },
   "outputs": [
    {
     "data": {
      "text/plain": [
       "(301429, 63)"
      ]
     },
     "execution_count": 48,
     "metadata": {},
     "output_type": "execute_result"
    }
   ],
   "source": [
    "data_1.shape"
   ]
  },
  {
   "cell_type": "markdown",
   "metadata": {},
   "source": [
    "### Tratamos la cantidad de recargas y el monto de recargas SEMANALES"
   ]
  },
  {
   "cell_type": "code",
   "execution_count": 52,
   "metadata": {},
   "outputs": [
    {
     "data": {
      "text/plain": [
       "(array([1.42017e+05, 0.00000e+00, 0.00000e+00, 0.00000e+00, 1.09869e+05,\n",
       "        0.00000e+00, 3.58800e+04, 1.03350e+04, 0.00000e+00, 2.57900e+03,\n",
       "        5.74000e+02, 0.00000e+00, 1.36000e+02, 3.00000e+01, 0.00000e+00,\n",
       "        7.00000e+00, 1.00000e+00, 0.00000e+00, 0.00000e+00, 1.00000e+00]),\n",
       " array([ 0.  ,  0.65,  1.3 ,  1.95,  2.6 ,  3.25,  3.9 ,  4.55,  5.2 ,\n",
       "         5.85,  6.5 ,  7.15,  7.8 ,  8.45,  9.1 ,  9.75, 10.4 , 11.05,\n",
       "        11.7 , 12.35, 13.  ]),\n",
       " <a list of 20 Patch objects>)"
      ]
     },
     "execution_count": 52,
     "metadata": {},
     "output_type": "execute_result"
    },
    {
     "data": {
      "image/png": "[encoded data removed]",
      "text/plain": [
       "<Figure size 1440x1440 with 12 Axes>"
      ]
     },
     "metadata": {
      "needs_background": "light"
     },
     "output_type": "display_data"
    }
   ],
   "source": [
    "# CANTIDAD DE RECARGAS ACUMULADAS POR SEMANA (12 semanas)\n",
    "plt.figure(figsize=(20,20))\n",
    "plt.subplot(4,3,1)\n",
    "plt.hist(data_1['PREP_RECH_Q_EVT_W1'],bins = 20, color = 'y')\n",
    "plt.subplot(4,3,2)\n",
    "plt.hist(data_1['PREP_RECH_Q_EVT_W2'],bins = 20, color = 'r')\n",
    "plt.subplot(4,3,3)\n",
    "plt.hist(data_1['PREP_RECH_Q_EVT_W3'],bins = 20, color = 'b')\n",
    "plt.subplot(4,3,4)\n",
    "plt.hist(data_1['PREP_RECH_Q_EVT_W4'],bins = 20, color = 'y')\n",
    "plt.subplot(4,3,5)\n",
    "plt.hist(data_1['PREP_RECH_Q_EVT_W5'],bins = 20, color = 'r')\n",
    "plt.subplot(4,3,6)\n",
    "plt.hist(data_1['PREP_RECH_Q_EVT_W6'],bins = 20, color = 'b')\n",
    "plt.subplot(4,3,7)\n",
    "plt.hist(data_1['PREP_RECH_Q_EVT_W7'],bins = 20, color = 'y')\n",
    "plt.subplot(4,3,8)\n",
    "plt.hist(data_1['PREP_RECH_Q_EVT_W8'],bins = 20, color = 'r')\n",
    "plt.subplot(4,3,9)\n",
    "plt.hist(data_1['PREP_RECH_Q_EVT_W9'],bins = 20, color = 'b')\n",
    "plt.subplot(4,3,10)\n",
    "plt.hist(data_1['PREP_RECH_Q_EVT_W10'],bins = 20, color = 'y')\n",
    "plt.subplot(4,3,11)\n",
    "plt.hist(data_1['PREP_RECH_Q_EVT_W11'],bins = 20, color = 'r')\n",
    "plt.subplot(4,3,12)\n",
    "plt.hist(data_1['PREP_RECH_Q_EVT_W12'],bins = 20, color = 'b')"
   ]
  },
  {
   "cell_type": "code",
   "execution_count": 54,
   "metadata": {},
   "outputs": [],
   "source": [
    "# seleccionamos todas las filas que tienen valores mayores al quantile 95 y las reemplazamos por el valor del quantile 95 \n",
    "# CANTIDAD DE RECARGAS ACUMULADAS POR SEMANA \n",
    "data_1.loc[data_1['PREP_RECH_Q_EVT_W1']>data_1['PREP_RECH_Q_EVT_W1'].quantile(0.95),'PREP_RECH_Q_EVT_W1'] = data_1['PREP_RECH_Q_EVT_W1'].quantile(0.95)\n",
    "data_1.loc[data_1['PREP_RECH_Q_EVT_W2']>data_1['PREP_RECH_Q_EVT_W2'].quantile(0.95),'PREP_RECH_Q_EVT_W2'] = data_1['PREP_RECH_Q_EVT_W2'].quantile(0.95)\n",
    "data_1.loc[data_1['PREP_RECH_Q_EVT_W3']>data_1['PREP_RECH_Q_EVT_W3'].quantile(0.95),'PREP_RECH_Q_EVT_W3'] = data_1['PREP_RECH_Q_EVT_W3'].quantile(0.95)\n",
    "data_1.loc[data_1['PREP_RECH_Q_EVT_W4']>data_1['PREP_RECH_Q_EVT_W4'].quantile(0.95),'PREP_RECH_Q_EVT_W4'] = data_1['PREP_RECH_Q_EVT_W4'].quantile(0.95)\n",
    "data_1.loc[data_1['PREP_RECH_Q_EVT_W5']>data_1['PREP_RECH_Q_EVT_W5'].quantile(0.95),'PREP_RECH_Q_EVT_W5'] = data_1['PREP_RECH_Q_EVT_W5'].quantile(0.95)\n",
    "data_1.loc[data_1['PREP_RECH_Q_EVT_W6']>data_1['PREP_RECH_Q_EVT_W6'].quantile(0.95),'PREP_RECH_Q_EVT_W6'] = data_1['PREP_RECH_Q_EVT_W6'].quantile(0.95)\n",
    "data_1.loc[data_1['PREP_RECH_Q_EVT_W7']>data_1['PREP_RECH_Q_EVT_W7'].quantile(0.95),'PREP_RECH_Q_EVT_W7'] = data_1['PREP_RECH_Q_EVT_W7'].quantile(0.95)\n",
    "data_1.loc[data_1['PREP_RECH_Q_EVT_W8']>data_1['PREP_RECH_Q_EVT_W8'].quantile(0.95),'PREP_RECH_Q_EVT_W8'] = data_1['PREP_RECH_Q_EVT_W8'].quantile(0.95)\n",
    "data_1.loc[data_1['PREP_RECH_Q_EVT_W9']>data_1['PREP_RECH_Q_EVT_W9'].quantile(0.95),'PREP_RECH_Q_EVT_W9'] = data_1['PREP_RECH_Q_EVT_W9'].quantile(0.95)\n",
    "data_1.loc[data_1['PREP_RECH_Q_EVT_W10']>data_1['PREP_RECH_Q_EVT_W10'].quantile(0.95),'PREP_RECH_Q_EVT_W10'] = data_1['PREP_RECH_Q_EVT_W10'].quantile(0.95)\n",
    "data_1.loc[data_1['PREP_RECH_Q_EVT_W11']>data_1['PREP_RECH_Q_EVT_W11'].quantile(0.95),'PREP_RECH_Q_EVT_W11'] = data_1['PREP_RECH_Q_EVT_W11'].quantile(0.95)\n",
    "data_1.loc[data_1['PREP_RECH_Q_EVT_W12']>data_1['PREP_RECH_Q_EVT_W12'].quantile(0.95),'PREP_RECH_Q_EVT_W12'] = data_1['PREP_RECH_Q_EVT_W12'].quantile(0.95)"
   ]
  },
  {
   "cell_type": "code",
   "execution_count": 55,
   "metadata": {},
   "outputs": [],
   "source": [
    "# seleccionamos todas las filas que tienen valores mayores al quantile 95 y las reemplazamos por el valor del quantile 95 \n",
    "# MONTO DE RECARGAS ACUMULADAS POR SEMANA \n",
    "data_1.loc[data_1['PREP_RECH_AMT_W1']>data_1['PREP_RECH_AMT_W1'].quantile(0.95),'PREP_RECH_AMT_W1'] = data_1['PREP_RECH_AMT_W1'].quantile(0.95)\n",
    "data_1.loc[data_1['PREP_RECH_AMT_W2']>data_1['PREP_RECH_AMT_W2'].quantile(0.95),'PREP_RECH_AMT_W2'] = data_1['PREP_RECH_AMT_W2'].quantile(0.95)\n",
    "data_1.loc[data_1['PREP_RECH_AMT_W3']>data_1['PREP_RECH_AMT_W3'].quantile(0.95),'PREP_RECH_AMT_W3'] = data_1['PREP_RECH_AMT_W3'].quantile(0.95)\n",
    "data_1.loc[data_1['PREP_RECH_AMT_W4']>data_1['PREP_RECH_AMT_W4'].quantile(0.95),'PREP_RECH_AMT_W4'] = data_1['PREP_RECH_AMT_W4'].quantile(0.95)\n",
    "data_1.loc[data_1['PREP_RECH_AMT_W5']>data_1['PREP_RECH_AMT_W5'].quantile(0.95),'PREP_RECH_AMT_W5'] = data_1['PREP_RECH_AMT_W5'].quantile(0.95)\n",
    "data_1.loc[data_1['PREP_RECH_AMT_W6']>data_1['PREP_RECH_AMT_W6'].quantile(0.95),'PREP_RECH_AMT_W6'] = data_1['PREP_RECH_AMT_W6'].quantile(0.95)\n",
    "data_1.loc[data_1['PREP_RECH_AMT_W7']>data_1['PREP_RECH_AMT_W7'].quantile(0.95),'PREP_RECH_AMT_W7'] = data_1['PREP_RECH_AMT_W7'].quantile(0.95)\n",
    "data_1.loc[data_1['PREP_RECH_AMT_W8']>data_1['PREP_RECH_AMT_W8'].quantile(0.95),'PREP_RECH_AMT_W8'] = data_1['PREP_RECH_AMT_W8'].quantile(0.95)\n",
    "data_1.loc[data_1['PREP_RECH_AMT_W9']>data_1['PREP_RECH_AMT_W9'].quantile(0.95),'PREP_RECH_AMT_W9'] = data_1['PREP_RECH_AMT_W9'].quantile(0.95)\n",
    "data_1.loc[data_1['PREP_RECH_AMT_W10']>data_1['PREP_RECH_AMT_W10'].quantile(0.95),'PREP_RECH_AMT_W10'] = data_1['PREP_RECH_AMT_W10'].quantile(0.95)\n",
    "data_1.loc[data_1['PREP_RECH_AMT_W11']>data_1['PREP_RECH_AMT_W11'].quantile(0.95),'PREP_RECH_AMT_W11'] = data_1['PREP_RECH_AMT_W11'].quantile(0.95)\n",
    "data_1.loc[data_1['PREP_RECH_AMT_W12']>data_1['PREP_RECH_AMT_W12'].quantile(0.95),'PREP_RECH_AMT_W12'] = data_1['PREP_RECH_AMT_W12'].quantile(0.95)\n"
   ]
  },
  {
   "cell_type": "markdown",
   "metadata": {},
   "source": [
    "### Tratamos la cantidad de recargas cada dia de la SEMANA en las 12 semanas"
   ]
  },
  {
   "cell_type": "code",
   "execution_count": 63,
   "metadata": {},
   "outputs": [
    {
     "data": {
      "text/plain": [
       "(array([1, 2, 3, 4, 5, 6, 7]), <a list of 7 Text xticklabel objects>)"
      ]
     },
     "execution_count": 63,
     "metadata": {},
     "output_type": "execute_result"
    },
    {
     "data": {
      "image/png": "[encoded data removed]",
      "text/plain": [
       "<Figure size 432x288 with 1 Axes>"
      ]
     },
     "metadata": {
      "needs_background": "light"
     },
     "output_type": "display_data"
    }
   ],
   "source": [
    "# comportamiento en los dias de la semana de cantidad de recargas en las 12 semanas\n",
    "data_1.boxplot(['PREP_RECH_Q_MON_12W','PREP_RECH_Q_TUE_12W','PREP_RECH_Q_WEN_12W','PREP_RECH_Q_THUR_12W','PREP_RECH_Q_FRI_12W','PREP_RECH_Q_SAT_12W','PREP_RECH_Q_SUN_12W'])\n",
    "plt.xticks(rotation='vertical')"
   ]
  },
  {
   "cell_type": "code",
   "execution_count": 62,
   "metadata": {},
   "outputs": [],
   "source": [
    "## seleccionamos todas las filas con valores mayores al quantile 95 y las reemplazamos por el valor del quantile 95\n",
    "data_1.loc[data_1['PREP_RECH_Q_MON_12W']>data_1['PREP_RECH_Q_MON_12W'].quantile(0.95),'PREP_RECH_Q_MON_12W'] = data_1['PREP_RECH_Q_MON_12W'].quantile(0.95)\n",
    "data_1.loc[data_1['PREP_RECH_Q_TUE_12W']>data_1['PREP_RECH_Q_TUE_12W'].quantile(0.95),'PREP_RECH_Q_TUE_12W'] = data_1['PREP_RECH_Q_TUE_12W'].quantile(0.95)\n",
    "data_1.loc[data_1['PREP_RECH_Q_WEN_12W']>data_1['PREP_RECH_Q_WEN_12W'].quantile(0.95),'PREP_RECH_Q_WEN_12W'] = data_1['PREP_RECH_Q_WEN_12W'].quantile(0.95)\n",
    "data_1.loc[data_1['PREP_RECH_Q_THUR_12W']>data_1['PREP_RECH_Q_THUR_12W'].quantile(0.95),'PREP_RECH_Q_THUR_12W'] = data_1['PREP_RECH_Q_THUR_12W'].quantile(0.95)\n",
    "data_1.loc[data_1['PREP_RECH_Q_FRI_12W']>data_1['PREP_RECH_Q_FRI_12W'].quantile(0.95),'PREP_RECH_Q_FRI_12W'] = data_1['PREP_RECH_Q_FRI_12W'].quantile(0.95)\n",
    "data_1.loc[data_1['PREP_RECH_Q_SAT_12W']>data_1['PREP_RECH_Q_SAT_12W'].quantile(0.95),'PREP_RECH_Q_SAT_12W'] = data_1['PREP_RECH_Q_SAT_12W'].quantile(0.95)\n",
    "data_1.loc[data_1['PREP_RECH_Q_SUN_12W']>data_1['PREP_RECH_Q_SUN_12W'].quantile(0.95),'PREP_RECH_Q_SUN_12W'] = data_1['PREP_RECH_Q_SUN_12W'].quantile(0.95)"
   ]
  },
  {
   "cell_type": "markdown",
   "metadata": {},
   "source": [
    "### Tratamos el trafico de datos MENSUAL"
   ]
  },
  {
   "cell_type": "code",
   "execution_count": 65,
   "metadata": {},
   "outputs": [
    {
     "data": {
      "text/plain": [
       "<matplotlib.axes._subplots.AxesSubplot at 0x195b4c9e588>"
      ]
     },
     "execution_count": 65,
     "metadata": {},
     "output_type": "execute_result"
    },
    {
     "data": {
      "image/png": "[encoded data removed]",
      "text/plain": [
       "<Figure size 432x288 with 1 Axes>"
      ]
     },
     "metadata": {
      "needs_background": "light"
     },
     "output_type": "display_data"
    }
   ],
   "source": [
    "# Vemos el comportamiento de la variable en los ultimos 3 meses\n",
    "data_1.boxplot(['TRD_M1','TRD_M2','TRD_M3'])"
   ]
  },
  {
   "cell_type": "code",
   "execution_count": 64,
   "metadata": {},
   "outputs": [],
   "source": [
    "## Seleccionamos todas las filas que son mayores al quantile 99 y las reemplazamos por el valor del quantile 99 del \n",
    "# TRAFICO DE DATOS MENSUAL\n",
    "data_1.loc[data_1['TRD_M1']>data_1['TRD_M1'].quantile(0.99),'TRD_M1'] = data_1['TRD_M1'].quantile(0.99)\n",
    "data_1.loc[data_1['TRD_M2']>data_1['TRD_M2'].quantile(0.99),'TRD_M2'] = data_1['TRD_M2'].quantile(0.99)\n",
    "data_1.loc[data_1['TRD_M3']>data_1['TRD_M3'].quantile(0.99),'TRD_M3'] = data_1['TRD_M3'].quantile(0.99)"
   ]
  },
  {
   "cell_type": "markdown",
   "metadata": {},
   "source": [
    "### Tratamos el trafico de datos streaming MENSUAL"
   ]
  },
  {
   "cell_type": "code",
   "execution_count": 69,
   "metadata": {},
   "outputs": [
    {
     "data": {
      "text/plain": [
       "<matplotlib.axes._subplots.AxesSubplot at 0x195b1f9f948>"
      ]
     },
     "execution_count": 69,
     "metadata": {},
     "output_type": "execute_result"
    },
    {
     "data": {
      "image/png": "[encoded data removed]",
      "text/plain": [
       "<Figure size 432x288 with 1 Axes>"
      ]
     },
     "metadata": {
      "needs_background": "light"
     },
     "output_type": "display_data"
    }
   ],
   "source": [
    "# Vemos el comportamiento de la variable en los ultimos 3 meses\n",
    "data_1.boxplot(['TRD_STR_M1','TRD_STR_M2','TRD_STR_M3'])"
   ]
  },
  {
   "cell_type": "code",
   "execution_count": 68,
   "metadata": {},
   "outputs": [],
   "source": [
    "# Seleccionamos todas las filas donde sus valores son mayores al quantile 99 y las reemplazamos por el valor del quantile 99  \n",
    "data_1.loc[data_1['TRD_STR_M1']>data_1['TRD_STR_M1'].quantile(0.99),'TRD_STR_M1'] = data_1['TRD_STR_M1'].quantile(0.99)\n",
    "data_1.loc[data_1['TRD_STR_M2']>data_1['TRD_STR_M2'].quantile(0.99),'TRD_STR_M2'] = data_1['TRD_STR_M2'].quantile(0.99)\n",
    "data_1.loc[data_1['TRD_STR_M3']>data_1['TRD_STR_M3'].quantile(0.99),'TRD_STR_M3'] = data_1['TRD_STR_M3'].quantile(0.99)"
   ]
  },
  {
   "cell_type": "markdown",
   "metadata": {},
   "source": [
    "### Tratamos el trafico de datos redes sociales MENSUAL"
   ]
  },
  {
   "cell_type": "code",
   "execution_count": 71,
   "metadata": {},
   "outputs": [
    {
     "data": {
      "text/plain": [
       "<matplotlib.axes._subplots.AxesSubplot at 0x195b4ed19c8>"
      ]
     },
     "execution_count": 71,
     "metadata": {},
     "output_type": "execute_result"
    },
    {
     "data": {
      "image/png": "[encoded data removed]",
      "text/plain": [
       "<Figure size 432x288 with 1 Axes>"
      ]
     },
     "metadata": {
      "needs_background": "light"
     },
     "output_type": "display_data"
    }
   ],
   "source": [
    "# Vemos el comportamiento de la variable en los ultimos 3 meses\n",
    "data_1.boxplot(['TRD_SN_M1','TRD_SN_M2','TRD_SN_M3'])"
   ]
  },
  {
   "cell_type": "code",
   "execution_count": 70,
   "metadata": {},
   "outputs": [],
   "source": [
    "# seleccionamos todas las filas donde sus valores son mayores al quantile 99 y las reemplazamos por el valor del quantile 99 \n",
    "\n",
    "data_1.loc[data_1['TRD_SN_M1']>data_1['TRD_SN_M1'].quantile(0.99),'TRD_SN_M1'] = data_1['TRD_SN_M1'].quantile(0.99)\n",
    "data_1.loc[data_1['TRD_SN_M2']>data_1['TRD_SN_M2'].quantile(0.99),'TRD_SN_M2'] = data_1['TRD_SN_M2'].quantile(0.99)\n",
    "data_1.loc[data_1['TRD_SN_M3']>data_1['TRD_SN_M3'].quantile(0.99),'TRD_SN_M3'] = data_1['TRD_SN_M3'].quantile(0.99)"
   ]
  },
  {
   "cell_type": "markdown",
   "metadata": {},
   "source": [
    "### Tratamos los DIAS desde la ultima recarga"
   ]
  },
  {
   "cell_type": "code",
   "execution_count": 73,
   "metadata": {},
   "outputs": [
    {
     "data": {
      "text/plain": [
       "<matplotlib.axes._subplots.AxesSubplot at 0x195b4ff7a88>"
      ]
     },
     "execution_count": 73,
     "metadata": {},
     "output_type": "execute_result"
    },
    {
     "data": {
      "image/png": "[encoded data removed]",
      "text/plain": [
       "<Figure size 432x288 with 1 Axes>"
      ]
     },
     "metadata": {
      "needs_background": "light"
     },
     "output_type": "display_data"
    }
   ],
   "source": [
    "# Vemos el comportamiento de la variable \n",
    "sns.violinplot(data_1['PREP_RECH_NDAYS_LASTRECH_12W'])"
   ]
  },
  {
   "cell_type": "code",
   "execution_count": 72,
   "metadata": {},
   "outputs": [],
   "source": [
    "# seleccionamos todas las filas donde sus valores son mayores al quantile 95 y las reemplazamos por el valor del quantile 95 \n",
    "data_1.loc[data_1['PREP_RECH_NDAYS_LASTRECH_12W']>data_1['PREP_RECH_NDAYS_LASTRECH_12W'].quantile(0.95),'PREP_RECH_NDAYS_LASTRECH_12W'] = data_1['PREP_RECH_NDAYS_LASTRECH_12W'].quantile(0.95)"
   ]
  },
  {
   "cell_type": "markdown",
   "metadata": {},
   "source": [
    "### Tratamos la ANTIGUEDAD y ANTIGUEDAD DESDE EL PRIMER GASTO"
   ]
  },
  {
   "cell_type": "code",
   "execution_count": 19,
   "metadata": {},
   "outputs": [
    {
     "data": {
      "text/plain": [
       "True    318488\n",
       "dtype: int64"
      ]
     },
     "execution_count": 19,
     "metadata": {},
     "output_type": "execute_result"
    }
   ],
   "source": [
    "# Verificamos que la columna de ANTIGUEDAD y ANTIGUEDAD DESDE EL PRIMER GASTO, tienen todos sus valores iguales\n",
    "(data_1.TENURE_CUSTOMER==data_1.TENURE_CUSTOMER_BL).value_counts()"
   ]
  },
  {
   "cell_type": "code",
   "execution_count": 42,
   "metadata": {},
   "outputs": [],
   "source": [
    "#Eliminamos la coumna de ANTIGUEDAD DESDE EL PRIMER GASTO\n",
    "data_1 = data_1.drop(['TENURE_CUSTOMER_BL'],axis=1)"
   ]
  },
  {
   "cell_type": "markdown",
   "metadata": {},
   "source": [
    "### Tratamos el MODELO DEL DISPOSITIVO"
   ]
  },
  {
   "cell_type": "code",
   "execution_count": 21,
   "metadata": {},
   "outputs": [],
   "source": [
    "## Disminuimos los diferentes tipos de datos dentro de la variable DEVICE_MODEL_NAME\n",
    "model=data_1['DEVICE_MODEL_NAME'].value_counts(normalize=True)"
   ]
  },
  {
   "cell_type": "code",
   "execution_count": 22,
   "metadata": {},
   "outputs": [],
   "source": [
    "otros=model[7:]\n",
    "otros=otros.index.tolist()"
   ]
  },
  {
   "cell_type": "code",
   "execution_count": 23,
   "metadata": {},
   "outputs": [],
   "source": [
    "data_1.loc[data_1['DEVICE_MODEL_NAME'].isin(otros),'DEVICE_MODEL_NAME']='OTROS'"
   ]
  },
  {
   "cell_type": "code",
   "execution_count": 24,
   "metadata": {},
   "outputs": [
    {
     "data": {
      "text/plain": [
       "OTROS                                    204994\n",
       "NOT_IDENTIFIED                            43818\n",
       "GALAXY GRAND PRIME DUOS (SM-G532M DS)     33507\n",
       "GALAXY GRAND NEO (GT-I9060C)               9247\n",
       "GALAXY J7 DUOS LTE (SM-J700MDS)            7611\n",
       "Y5 2018 (DRA-LX3)                          6632\n",
       "GALAXY J2 PRIME (SM-G532M)                 6453\n",
       "Y9 2019 (JKM-LX3)                          6226\n",
       "Name: DEVICE_MODEL_NAME, dtype: int64"
      ]
     },
     "execution_count": 24,
     "metadata": {},
     "output_type": "execute_result"
    }
   ],
   "source": [
    "data_1['DEVICE_MODEL_NAME'].value_counts()"
   ]
  },
  {
   "cell_type": "markdown",
   "metadata": {},
   "source": [
    "### Tratamos la MARCA DEL DISPOSITIVO"
   ]
  },
  {
   "cell_type": "code",
   "execution_count": 25,
   "metadata": {},
   "outputs": [],
   "source": [
    "## Disminuimos los diferentes tipos de datos dentro de la variable DEVICE_VENDOR_NAME\n",
    "device=data_1['DEVICE_VENDOR_NAME'].value_counts(normalize=True)"
   ]
  },
  {
   "cell_type": "code",
   "execution_count": 26,
   "metadata": {},
   "outputs": [],
   "source": [
    "otros_2=device[7:]\n",
    "otros_2=otros_2.index.tolist()"
   ]
  },
  {
   "cell_type": "code",
   "execution_count": 27,
   "metadata": {},
   "outputs": [],
   "source": [
    "data_1.loc[data_1['DEVICE_VENDOR_NAME'].isin(otros_2),'DEVICE_VENDOR_NAME']='OTROS'"
   ]
  },
  {
   "cell_type": "code",
   "execution_count": 28,
   "metadata": {
    "scrolled": true
   },
   "outputs": [
    {
     "data": {
      "text/plain": [
       "SAMSUNG           160001\n",
       "HUAWEI             55278\n",
       "NOT_IDENTIFIED     43818\n",
       "OTROS              18958\n",
       "LG                 16438\n",
       "BLU                 9782\n",
       "NOKIA               8566\n",
       "APPLE               5647\n",
       "Name: DEVICE_VENDOR_NAME, dtype: int64"
      ]
     },
     "execution_count": 28,
     "metadata": {},
     "output_type": "execute_result"
    }
   ],
   "source": [
    "data_1['DEVICE_VENDOR_NAME'].value_counts()"
   ]
  },
  {
   "cell_type": "markdown",
   "metadata": {},
   "source": [
    "## **TRANSFORMACIONES**"
   ]
  },
  {
   "cell_type": "markdown",
   "metadata": {},
   "source": [
    "### Tratamos la FECHA DE ACTIVACION"
   ]
  },
  {
   "cell_type": "code",
   "execution_count": 29,
   "metadata": {},
   "outputs": [
    {
     "data": {
      "text/plain": [
       "0    15-FEB-19\n",
       "1    18-MAY-19\n",
       "2    16-JAN-18\n",
       "3    16-APR-19\n",
       "4    01-DEC-16\n",
       "Name: COMMERCIAL_ACTIVATION_DATE, dtype: object"
      ]
     },
     "execution_count": 29,
     "metadata": {},
     "output_type": "execute_result"
    }
   ],
   "source": [
    "#transformamos la columna comercial_activation_date que es tipo objeto a tipo fecha\n",
    "data_1['COMMERCIAL_ACTIVATION_DATE'].head()"
   ]
  },
  {
   "cell_type": "code",
   "execution_count": 30,
   "metadata": {},
   "outputs": [],
   "source": [
    "data_1['COMMERCIAL_ACTIVATION_DATE']= pd.to_datetime(data_1['COMMERCIAL_ACTIVATION_DATE'])"
   ]
  },
  {
   "cell_type": "markdown",
   "metadata": {},
   "source": [
    "### Tratamos ULTIMO DIA DE CARGA EN LAS 12 SEMANAS "
   ]
  },
  {
   "cell_type": "code",
   "execution_count": 31,
   "metadata": {},
   "outputs": [
    {
     "data": {
      "text/plain": [
       "0    19-AUG-19\n",
       "1    03-JUL-19\n",
       "2    02-SEP-19\n",
       "3    01-SEP-19\n",
       "4    05-SEP-19\n",
       "Name: PREP_RECH_LAST_DAY_12W, dtype: object"
      ]
     },
     "execution_count": 31,
     "metadata": {},
     "output_type": "execute_result"
    }
   ],
   "source": [
    "#transformamos la columna PREP_RECH_LAST_DAY_12W que es tipo objeto a tipo fecha\n",
    "data_1['PREP_RECH_LAST_DAY_12W'].head()"
   ]
  },
  {
   "cell_type": "code",
   "execution_count": 32,
   "metadata": {},
   "outputs": [],
   "source": [
    "data_1['PREP_RECH_LAST_DAY_12W']=pd.to_datetime(data_1['PREP_RECH_LAST_DAY_12W'])"
   ]
  },
  {
   "cell_type": "markdown",
   "metadata": {},
   "source": [
    "### Tratamos SEGMENTO DE VALOR DEL CLIENTE "
   ]
  },
  {
   "cell_type": "code",
   "execution_count": 33,
   "metadata": {},
   "outputs": [],
   "source": [
    "# transfromar value_segment, que es el valor que le da la empresa al cliente, a INT\n",
    "data_1['VALUE_SEGMENT']=pd.to_numeric(data_1['VALUE_SEGMENT'].str.split(' - ').str[0])"
   ]
  },
  {
   "cell_type": "code",
   "execution_count": 34,
   "metadata": {},
   "outputs": [
    {
     "data": {
      "text/plain": [
       "3    113963\n",
       "2     99814\n",
       "1     52596\n",
       "4     52115\n",
       "Name: VALUE_SEGMENT, dtype: int64"
      ]
     },
     "execution_count": 34,
     "metadata": {},
     "output_type": "execute_result"
    }
   ],
   "source": [
    "data_1['VALUE_SEGMENT'].value_counts()"
   ]
  },
  {
   "cell_type": "code",
   "execution_count": 37,
   "metadata": {},
   "outputs": [
    {
     "data": {
      "text/plain": [
       "OTROS                                    204994\n",
       "NOT_IDENTIFIED                            43818\n",
       "GALAXY GRAND PRIME DUOS (SM-G532M DS)     33507\n",
       "GALAXY GRAND NEO (GT-I9060C)               9247\n",
       "GALAXY J7 DUOS LTE (SM-J700MDS)            7611\n",
       "Y5 2018 (DRA-LX3)                          6632\n",
       "GALAXY J2 PRIME (SM-G532M)                 6453\n",
       "Y9 2019 (JKM-LX3)                          6226\n",
       "Name: DEVICE_MODEL_NAME, dtype: int64"
      ]
     },
     "execution_count": 37,
     "metadata": {},
     "output_type": "execute_result"
    }
   ],
   "source": [
    "data_1['DEVICE_MODEL_NAME'].value_counts()"
   ]
  },
  {
   "cell_type": "code",
   "execution_count": 45,
   "metadata": {},
   "outputs": [
    {
     "data": {
      "text/plain": [
       "(318488, 62)"
      ]
     },
     "execution_count": 45,
     "metadata": {},
     "output_type": "execute_result"
    }
   ],
   "source": [
    "data_1.shape"
   ]
  }
 ],
 "metadata": {
  "kernelspec": {
   "display_name": "Python 3",
   "language": "python",
   "name": "python3"
  },
  "language_info": {
   "codemirror_mode": {
    "name": "ipython",
    "version": 3
   },
   "file_extension": ".py",
   "mimetype": "text/x-python",
   "name": "python",
   "nbconvert_exporter": "python",
   "pygments_lexer": "ipython3",
   "version": "3.7.6"
  }
 },
 "nbformat": 4,
 "nbformat_minor": 4
}
